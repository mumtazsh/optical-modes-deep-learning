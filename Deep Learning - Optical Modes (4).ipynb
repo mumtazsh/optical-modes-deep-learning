{
 "cells": [
  {
   "cell_type": "code",
   "execution_count": 1,
   "metadata": {},
   "outputs": [],
   "source": [
    "import numpy as np\n",
    "import matplotlib.pyplot as plt\n",
    "from scipy.special import eval_genlaguerre\n",
    "from math import sqrt, pi, factorial"
   ]
  },
  {
   "cell_type": "code",
   "execution_count": 2,
   "metadata": {},
   "outputs": [],
   "source": [
    "def LaguerreGauss(p,l,r,phi,w0):\n",
    "    a = sqrt(2**(abs(l)+1)*factorial(p)/(pi*(w0**2)*factorial(p+abs(l))))\n",
    "    b = (r/w0)**abs(l)\n",
    "    c = np.exp(-(r**2)/(w0**2))\n",
    "    d = eval_genlaguerre(p,abs(l),2*(r**2)/(w0**2))\n",
    "    return a*b*c*d*np.exp(-l*phi*1j)"
   ]
  },
  {
   "cell_type": "code",
   "execution_count": 3,
   "metadata": {},
   "outputs": [],
   "source": [
    "pix = 75\n",
    "w0 = 0.4e-3\n",
    "X,Y = np.mgrid[-3*w0:3*w0+1e-6:pix*1j, -3*w0:3*w0+1e-6:pix*1j]\n",
    "r = np.sqrt(X**2+Y**2)\n",
    "phi = np.arctan2(Y,X)"
   ]
  },
  {
   "cell_type": "code",
   "execution_count": 4,
   "metadata": {},
   "outputs": [],
   "source": [
    "p = 0\n",
    "l_range = 10\n",
    "l_values = np.arange(l_range)\n",
    "LG_modes = np.zeros((l_range,pix,pix), complex)\n",
    "\n",
    "for l in range(l_range):\n",
    "  LG_modes[l,:,:] = LaguerreGauss(p,l,r,phi,w0)"
   ]
  },
  {
   "cell_type": "code",
   "execution_count": 5,
   "metadata": {},
   "outputs": [
    {
     "data": {
      "text/plain": [
       "<matplotlib.image.AxesImage at 0x7f06180316a0>"
      ]
     },
     "execution_count": 5,
     "metadata": {},
     "output_type": "execute_result"
    },
    {
     "data": {
      "image/png": "[encoded data removed]",
      "text/plain": [
       "<Figure size 432x288 with 1 Axes>"
      ]
     },
     "metadata": {
      "needs_background": "light"
     },
     "output_type": "display_data"
    }
   ],
   "source": [
    "field = LG_modes[0,:,:]+LG_modes[5,:,:]\n",
    "fig = plt.figure()\n",
    "plt.imshow(abs(field)**2)"
   ]
  },
  {
   "cell_type": "code",
   "execution_count": 6,
   "metadata": {},
   "outputs": [],
   "source": [
    "N = 100000 # No of simulated images\n",
    "sim_field = np.zeros((N,pix,pix), complex)\n",
    "amps = np.random.rand(N,l_range)\n",
    "amps_sum = np.sqrt(np.sum(amps**2, axis=1))\n",
    "amps = amps.transpose()/amps_sum\n",
    "amps = amps.transpose()\n",
    "phases = 2*pi*np.random.rand(N,l_range)\n",
    "weights = amps*np.exp(-phases*1j)\n",
    "for i in range(N):\n",
    "  for l in range(l_range):\n",
    "    sim_field[i,:,:]+=weights[i,l]*LG_modes[l,:,:]"
   ]
  },
  {
   "cell_type": "code",
   "execution_count": 7,
   "metadata": {},
   "outputs": [
    {
     "data": {
      "text/plain": [
       "array([ 0.00610904+0.00394077j,  0.02621929-0.02036124j,\n",
       "       -0.19223964+0.20088721j, -0.34738162-0.02819283j,\n",
       "        0.47339257-0.08985989j,  0.18859322+0.45260687j,\n",
       "       -0.17027917-0.18822062j,  0.06692158-0.09668001j,\n",
       "        0.14976952-0.41685935j, -0.07850597-0.21646132j])"
      ]
     },
     "execution_count": 7,
     "metadata": {},
     "output_type": "execute_result"
    }
   ],
   "source": [
    "weights[600,:]"
   ]
  },
  {
   "cell_type": "code",
   "execution_count": 8,
   "metadata": {},
   "outputs": [
    {
     "data": {
      "text/plain": [
       "<matplotlib.image.AxesImage at 0x7f03f6fe1908>"
      ]
     },
     "execution_count": 8,
     "metadata": {},
     "output_type": "execute_result"
    },
    {
     "data": {
      "image/png": "[encoded data removed]",
      "text/plain": [
       "<Figure size 432x288 with 1 Axes>"
      ]
     },
     "metadata": {
      "needs_background": "light"
     },
     "output_type": "display_data"
    }
   ],
   "source": [
    "fig = plt.figure()\n",
    "plt.imshow(abs(sim_field[600,:,:])**2)"
   ]
  },
  {
   "cell_type": "code",
   "execution_count": 9,
   "metadata": {},
   "outputs": [],
   "source": [
    "sim_images = abs(sim_field)**2"
   ]
  },
  {
   "cell_type": "code",
   "execution_count": 10,
   "metadata": {},
   "outputs": [
    {
     "data": {
      "text/plain": [
       "(100000, 75, 75)"
      ]
     },
     "execution_count": 10,
     "metadata": {},
     "output_type": "execute_result"
    }
   ],
   "source": [
    "sim_images.shape"
   ]
  },
  {
   "cell_type": "code",
   "execution_count": 11,
   "metadata": {},
   "outputs": [
    {
     "data": {
      "text/plain": [
       "1816428.1926454639"
      ]
     },
     "execution_count": 11,
     "metadata": {},
     "output_type": "execute_result"
    }
   ],
   "source": [
    "np.max(sim_images[600,:,:])"
   ]
  },
  {
   "cell_type": "code",
   "execution_count": 12,
   "metadata": {},
   "outputs": [],
   "source": [
    "sim_images_max = np.max(sim_images, axis=(1,2))"
   ]
  },
  {
   "cell_type": "code",
   "execution_count": 13,
   "metadata": {},
   "outputs": [
    {
     "data": {
      "text/plain": [
       "(100000,)"
      ]
     },
     "execution_count": 13,
     "metadata": {},
     "output_type": "execute_result"
    }
   ],
   "source": [
    "sim_images_max.shape"
   ]
  },
  {
   "cell_type": "code",
   "execution_count": 14,
   "metadata": {},
   "outputs": [],
   "source": [
    "sim_images = sim_images.transpose()/sim_images_max\n",
    "sim_images = sim_images.transpose()"
   ]
  },
  {
   "cell_type": "code",
   "execution_count": 15,
   "metadata": {},
   "outputs": [
    {
     "data": {
      "text/plain": [
       "<matplotlib.image.AxesImage at 0x7f03f6fa3a90>"
      ]
     },
     "execution_count": 15,
     "metadata": {},
     "output_type": "execute_result"
    },
    {
     "data": {
      "image/png": "[encoded data removed]",
      "text/plain": [
       "<Figure size 432x288 with 1 Axes>"
      ]
     },
     "metadata": {
      "needs_background": "light"
     },
     "output_type": "display_data"
    }
   ],
   "source": [
    "fig = plt.figure()\n",
    "plt.imshow(sim_images[600,:])"
   ]
  },
  {
   "cell_type": "code",
   "execution_count": 16,
   "metadata": {},
   "outputs": [
    {
     "data": {
      "text/plain": [
       "(100000, 75, 75)"
      ]
     },
     "execution_count": 16,
     "metadata": {},
     "output_type": "execute_result"
    }
   ],
   "source": [
    "sim_images.shape"
   ]
  },
  {
   "cell_type": "code",
   "execution_count": 17,
   "metadata": {},
   "outputs": [
    {
     "data": {
      "text/plain": [
       "(100000, 10)"
      ]
     },
     "execution_count": 17,
     "metadata": {},
     "output_type": "execute_result"
    }
   ],
   "source": [
    "weights.shape"
   ]
  },
  {
   "cell_type": "code",
   "execution_count": 18,
   "metadata": {},
   "outputs": [],
   "source": [
    "probs = abs(weights)**2"
   ]
  },
  {
   "cell_type": "code",
   "execution_count": 19,
   "metadata": {},
   "outputs": [
    {
     "data": {
      "text/plain": [
       "1.0"
      ]
     },
     "execution_count": 19,
     "metadata": {},
     "output_type": "execute_result"
    }
   ],
   "source": [
    "np.max(sim_images)"
   ]
  },
  {
   "cell_type": "code",
   "execution_count": 20,
   "metadata": {},
   "outputs": [
    {
     "data": {
      "text/plain": [
       "8.712745534407384e-15"
      ]
     },
     "execution_count": 20,
     "metadata": {},
     "output_type": "execute_result"
    }
   ],
   "source": [
    "np.min(sim_images)"
   ]
  },
  {
   "cell_type": "code",
   "execution_count": 21,
   "metadata": {},
   "outputs": [
    {
     "data": {
      "text/plain": [
       "0.833140643067808"
      ]
     },
     "execution_count": 21,
     "metadata": {},
     "output_type": "execute_result"
    }
   ],
   "source": [
    "np.max(probs)"
   ]
  },
  {
   "cell_type": "code",
   "execution_count": 22,
   "metadata": {},
   "outputs": [
    {
     "data": {
      "text/plain": [
       "5.4101900705059495e-14"
      ]
     },
     "execution_count": 22,
     "metadata": {},
     "output_type": "execute_result"
    }
   ],
   "source": [
    "np.min(probs)"
   ]
  },
  {
   "cell_type": "code",
   "execution_count": 23,
   "metadata": {},
   "outputs": [],
   "source": [
    "sim_images = sim_images - 0.5"
   ]
  },
  {
   "cell_type": "code",
   "execution_count": 24,
   "metadata": {},
   "outputs": [],
   "source": [
    "from sklearn.model_selection import train_test_split\n",
    "\n",
    "tr_imgs, te_imgs, tr_probs, te_probs = \\\n",
    "    train_test_split(sim_images, probs, test_size=0.2, random_state=42)"
   ]
  },
  {
   "cell_type": "code",
   "execution_count": 25,
   "metadata": {},
   "outputs": [
    {
     "data": {
      "text/plain": [
       "(80000, 75, 75)"
      ]
     },
     "execution_count": 25,
     "metadata": {},
     "output_type": "execute_result"
    }
   ],
   "source": [
    "tr_imgs.shape"
   ]
  },
  {
   "cell_type": "code",
   "execution_count": 26,
   "metadata": {},
   "outputs": [
    {
     "data": {
      "text/plain": [
       "(80000, 10)"
      ]
     },
     "execution_count": 26,
     "metadata": {},
     "output_type": "execute_result"
    }
   ],
   "source": [
    "tr_probs.shape"
   ]
  },
  {
   "cell_type": "code",
   "execution_count": 27,
   "metadata": {},
   "outputs": [],
   "source": [
    "tr_imgs = tr_imgs.reshape(tr_imgs.shape[0], pix, pix, 1)\n",
    "te_imgs = te_imgs.reshape(te_imgs.shape[0], pix, pix, 1)"
   ]
  },
  {
   "cell_type": "code",
   "execution_count": 28,
   "metadata": {},
   "outputs": [
    {
     "name": "stderr",
     "output_type": "stream",
     "text": [
      "Using TensorFlow backend.\n",
      "/usr/local/lib/python3.5/dist-packages/tensorflow/python/framework/dtypes.py:516: FutureWarning: Passing (type, 1) or '1type' as a synonym of type is deprecated; in a future version of numpy, it will be understood as (type, (1,)) / '(1,)type'.\n",
      "  _np_qint8 = np.dtype([(\"qint8\", np.int8, 1)])\n",
      "/usr/local/lib/python3.5/dist-packages/tensorflow/python/framework/dtypes.py:517: FutureWarning: Passing (type, 1) or '1type' as a synonym of type is deprecated; in a future version of numpy, it will be understood as (type, (1,)) / '(1,)type'.\n",
      "  _np_quint8 = np.dtype([(\"quint8\", np.uint8, 1)])\n",
      "/usr/local/lib/python3.5/dist-packages/tensorflow/python/framework/dtypes.py:518: FutureWarning: Passing (type, 1) or '1type' as a synonym of type is deprecated; in a future version of numpy, it will be understood as (type, (1,)) / '(1,)type'.\n",
      "  _np_qint16 = np.dtype([(\"qint16\", np.int16, 1)])\n",
      "/usr/local/lib/python3.5/dist-packages/tensorflow/python/framework/dtypes.py:519: FutureWarning: Passing (type, 1) or '1type' as a synonym of type is deprecated; in a future version of numpy, it will be understood as (type, (1,)) / '(1,)type'.\n",
      "  _np_quint16 = np.dtype([(\"quint16\", np.uint16, 1)])\n",
      "/usr/local/lib/python3.5/dist-packages/tensorflow/python/framework/dtypes.py:520: FutureWarning: Passing (type, 1) or '1type' as a synonym of type is deprecated; in a future version of numpy, it will be understood as (type, (1,)) / '(1,)type'.\n",
      "  _np_qint32 = np.dtype([(\"qint32\", np.int32, 1)])\n",
      "/usr/local/lib/python3.5/dist-packages/tensorflow/python/framework/dtypes.py:525: FutureWarning: Passing (type, 1) or '1type' as a synonym of type is deprecated; in a future version of numpy, it will be understood as (type, (1,)) / '(1,)type'.\n",
      "  np_resource = np.dtype([(\"resource\", np.ubyte, 1)])\n",
      "/usr/local/lib/python3.5/dist-packages/tensorboard/compat/tensorflow_stub/dtypes.py:541: FutureWarning: Passing (type, 1) or '1type' as a synonym of type is deprecated; in a future version of numpy, it will be understood as (type, (1,)) / '(1,)type'.\n",
      "  _np_qint8 = np.dtype([(\"qint8\", np.int8, 1)])\n",
      "/usr/local/lib/python3.5/dist-packages/tensorboard/compat/tensorflow_stub/dtypes.py:542: FutureWarning: Passing (type, 1) or '1type' as a synonym of type is deprecated; in a future version of numpy, it will be understood as (type, (1,)) / '(1,)type'.\n",
      "  _np_quint8 = np.dtype([(\"quint8\", np.uint8, 1)])\n",
      "/usr/local/lib/python3.5/dist-packages/tensorboard/compat/tensorflow_stub/dtypes.py:543: FutureWarning: Passing (type, 1) or '1type' as a synonym of type is deprecated; in a future version of numpy, it will be understood as (type, (1,)) / '(1,)type'.\n",
      "  _np_qint16 = np.dtype([(\"qint16\", np.int16, 1)])\n",
      "/usr/local/lib/python3.5/dist-packages/tensorboard/compat/tensorflow_stub/dtypes.py:544: FutureWarning: Passing (type, 1) or '1type' as a synonym of type is deprecated; in a future version of numpy, it will be understood as (type, (1,)) / '(1,)type'.\n",
      "  _np_quint16 = np.dtype([(\"quint16\", np.uint16, 1)])\n",
      "/usr/local/lib/python3.5/dist-packages/tensorboard/compat/tensorflow_stub/dtypes.py:545: FutureWarning: Passing (type, 1) or '1type' as a synonym of type is deprecated; in a future version of numpy, it will be understood as (type, (1,)) / '(1,)type'.\n",
      "  _np_qint32 = np.dtype([(\"qint32\", np.int32, 1)])\n",
      "/usr/local/lib/python3.5/dist-packages/tensorboard/compat/tensorflow_stub/dtypes.py:550: FutureWarning: Passing (type, 1) or '1type' as a synonym of type is deprecated; in a future version of numpy, it will be understood as (type, (1,)) / '(1,)type'.\n",
      "  np_resource = np.dtype([(\"resource\", np.ubyte, 1)])\n"
     ]
    }
   ],
   "source": [
    "from keras.models import Sequential\n",
    "from keras.layers import Conv2D, MaxPooling2D, Flatten, Dense, Activation, Dropout\n",
    "from keras.layers.advanced_activations import LeakyReLU"
   ]
  },
  {
   "cell_type": "code",
   "execution_count": 29,
   "metadata": {},
   "outputs": [],
   "source": [
    "def make_model():\n",
    "    \n",
    "    model = Sequential()\n",
    "\n",
    "    \n",
    "    model.add(Conv2D(16,(3,3),padding=\"same\",input_shape=(pix,pix,1)))\n",
    "    model.add(LeakyReLU(0.1))\n",
    "    model.add(Conv2D(32,(3,3),padding=\"same\"))\n",
    "    model.add(LeakyReLU(0.1))\n",
    "    model.add(MaxPooling2D())\n",
    "    model.add(Dropout(0.25))\n",
    "    model.add(Conv2D(32,(3,3),padding=\"same\"))\n",
    "    model.add(LeakyReLU(0.1))\n",
    "    model.add(Conv2D(64,(3,3),padding=\"same\"))\n",
    "    model.add(LeakyReLU(0.1))\n",
    "    model.add(MaxPooling2D())\n",
    "    model.add(Dropout(0.25))\n",
    "    model.add(Flatten())\n",
    "    model.add(Dense(256))\n",
    "    model.add(LeakyReLU(0.1))\n",
    "    model.add(Dropout(0.5))\n",
    "    model.add(Dense(l_range))\n",
    "    model.add(Activation(\"softmax\"))\n",
    "    \n",
    "    \n",
    "    return model"
   ]
  },
  {
   "cell_type": "code",
   "execution_count": 30,
   "metadata": {},
   "outputs": [],
   "source": [
    "import tensorflow as tf\n",
    "import keras\n",
    "from keras import backend as K\n"
   ]
  },
  {
   "cell_type": "code",
   "execution_count": 31,
   "metadata": {},
   "outputs": [
    {
     "name": "stdout",
     "output_type": "stream",
     "text": [
      "WARNING:tensorflow:From /usr/local/lib/python3.5/dist-packages/keras/backend/tensorflow_backend.py:4070: The name tf.nn.max_pool is deprecated. Please use tf.nn.max_pool2d instead.\n",
      "\n",
      "Model: \"sequential_1\"\n",
      "_________________________________________________________________\n",
      "Layer (type)                 Output Shape              Param #   \n",
      "=================================================================\n",
      "conv2d_1 (Conv2D)            (None, 75, 75, 16)        160       \n",
      "_________________________________________________________________\n",
      "leaky_re_lu_1 (LeakyReLU)    (None, 75, 75, 16)        0         \n",
      "_________________________________________________________________\n",
      "conv2d_2 (Conv2D)            (None, 75, 75, 32)        4640      \n",
      "_________________________________________________________________\n",
      "leaky_re_lu_2 (LeakyReLU)    (None, 75, 75, 32)        0         \n",
      "_________________________________________________________________\n",
      "max_pooling2d_1 (MaxPooling2 (None, 37, 37, 32)        0         \n",
      "_________________________________________________________________\n",
      "dropout_1 (Dropout)          (None, 37, 37, 32)        0         \n",
      "_________________________________________________________________\n",
      "conv2d_3 (Conv2D)            (None, 37, 37, 32)        9248      \n",
      "_________________________________________________________________\n",
      "leaky_re_lu_3 (LeakyReLU)    (None, 37, 37, 32)        0         \n",
      "_________________________________________________________________\n",
      "conv2d_4 (Conv2D)            (None, 37, 37, 64)        18496     \n",
      "_________________________________________________________________\n",
      "leaky_re_lu_4 (LeakyReLU)    (None, 37, 37, 64)        0         \n",
      "_________________________________________________________________\n",
      "max_pooling2d_2 (MaxPooling2 (None, 18, 18, 64)        0         \n",
      "_________________________________________________________________\n",
      "dropout_2 (Dropout)          (None, 18, 18, 64)        0         \n",
      "_________________________________________________________________\n",
      "flatten_1 (Flatten)          (None, 20736)             0         \n",
      "_________________________________________________________________\n",
      "dense_1 (Dense)              (None, 256)               5308672   \n",
      "_________________________________________________________________\n",
      "leaky_re_lu_5 (LeakyReLU)    (None, 256)               0         \n",
      "_________________________________________________________________\n",
      "dropout_3 (Dropout)          (None, 256)               0         \n",
      "_________________________________________________________________\n",
      "dense_2 (Dense)              (None, 10)                2570      \n",
      "_________________________________________________________________\n",
      "activation_1 (Activation)    (None, 10)                0         \n",
      "=================================================================\n",
      "Total params: 5,343,786\n",
      "Trainable params: 5,343,786\n",
      "Non-trainable params: 0\n",
      "_________________________________________________________________\n"
     ]
    }
   ],
   "source": [
    "s = K.clear_session()  \n",
    "model = make_model()\n",
    "model.summary()"
   ]
  },
  {
   "cell_type": "code",
   "execution_count": 32,
   "metadata": {},
   "outputs": [],
   "source": [
    "INIT_LR = 5e-3  \n",
    "BATCH_SIZE = 32\n",
    "EPOCHS = 8\n",
    "\n",
    "s = K.clear_session()  \n",
    "\n",
    "model = make_model()  \n",
    "\n",
    "\n",
    "model.compile(\n",
    "    loss='categorical_crossentropy',  \n",
    "    optimizer=keras.optimizers.adamax(lr=INIT_LR),  \n",
    "    metrics=['categorical_crossentropy']  \n",
    ")\n",
    "\n",
    "\n",
    "def lr_scheduler(epoch):\n",
    "    return INIT_LR * 0.9 ** epoch\n",
    "\n",
    "\n",
    "class LrHistory(keras.callbacks.Callback):\n",
    "    def on_epoch_begin(self, epoch, logs={}):\n",
    "        print(\"Learning rate:\", K.get_value(model.optimizer.lr))"
   ]
  },
  {
   "cell_type": "code",
   "execution_count": 33,
   "metadata": {},
   "outputs": [
    {
     "name": "stdout",
     "output_type": "stream",
     "text": [
      "WARNING:tensorflow:From /usr/local/lib/python3.5/dist-packages/keras/backend/tensorflow_backend.py:422: The name tf.global_variables is deprecated. Please use tf.compat.v1.global_variables instead.\n",
      "\n",
      "Train on 80000 samples, validate on 20000 samples\n",
      "Epoch 1/8\n",
      "Learning rate: 0.005\n",
      "Epoch 1/8\n",
      "80000/80000 [==============================] - 73s 910us/step - loss: 2.1022 - categorical_crossentropy: 2.1022 - val_loss: 2.0172 - val_categorical_crossentropy: 2.0172\n",
      "80000/80000 [==============================] - 73s 909us/step - loss: 2.1022 - categorical_crossentropy: 2.1804 - val_loss: 2.0172 - val_categorical_crossentropy: 2.0172\n",
      "Epoch 2/8\n",
      "Learning rate: 0.0045\n",
      "Epoch 2/8\n",
      "80000/80000 [==============================] - 62s 771us/step - loss: 2.0173 - categorical_crossentropy: 2.0173 - val_loss: 1.9660 - val_categorical_crossentropy: 1.9660\n",
      "80000/80000 [==============================] - 62s 771us/step - loss: 2.0173 - categorical_crossentropy: 2.0282 - val_loss: 1.9660 - val_categorical_crossentropy: 1.9660\n",
      "Epoch 3/8\n",
      "Learning rate: 0.00405\n",
      "Epoch 3/8\n",
      "80000/80000 [==============================] - 62s 771us/step - loss: 1.9905 - categorical_crossentropy: 1.9905 - val_loss: 1.9483 - val_categorical_crossentropy: 1.9483\n",
      "80000/80000 [==============================] - 62s 771us/step - loss: 1.9905 - categorical_crossentropy: 1.9944 - val_loss: 1.9483 - val_categorical_crossentropy: 1.9483\n",
      "Epoch 4/8\n",
      "Learning rate: 0.003645\n",
      "Epoch 4/8\n",
      "80000/80000 [==============================] - 62s 771us/step - loss: 1.9779 - categorical_crossentropy: 1.9779 - val_loss: 1.9400 - val_categorical_crossentropy: 1.9400\n",
      "80000/80000 [==============================] - 62s 771us/step - loss: 1.9779 - categorical_crossentropy: 1.9798 - val_loss: 1.9400 - val_categorical_crossentropy: 1.9400\n",
      "Epoch 5/8\n",
      "Learning rate: 0.0032805\n",
      "Epoch 5/8\n",
      "80000/80000 [==============================] - 62s 773us/step - loss: 1.9702 - categorical_crossentropy: 1.9702 - val_loss: 1.9356 - val_categorical_crossentropy: 1.9356\n",
      "80000/80000 [==============================] - 62s 773us/step - loss: 1.9702 - categorical_crossentropy: 1.9710 - val_loss: 1.9356 - val_categorical_crossentropy: 1.9356\n",
      "Epoch 6/8\n",
      "Learning rate: 0.00295245\n",
      "Epoch 6/8\n",
      "80000/80000 [==============================] - 62s 771us/step - loss: 1.9647 - categorical_crossentropy: 1.9647 - val_loss: 1.9312 - val_categorical_crossentropy: 1.9312\n",
      "80000/80000 [==============================] - 62s 771us/step - loss: 1.9647 - categorical_crossentropy: 1.9652 - val_loss: 1.9312 - val_categorical_crossentropy: 1.9312\n",
      "Epoch 7/8\n",
      "Learning rate: 0.002657205\n",
      "Epoch 7/8\n",
      "80000/80000 [==============================] - 62s 770us/step - loss: 1.9606 - categorical_crossentropy: 1.9606 - val_loss: 1.9269 - val_categorical_crossentropy: 1.9269\n",
      "80000/80000 [==============================] - 62s 770us/step - loss: 1.9606 - categorical_crossentropy: 1.9602 - val_loss: 1.9269 - val_categorical_crossentropy: 1.9269\n",
      "Epoch 8/8\n",
      "Learning rate: 0.0023914846\n",
      "Epoch 8/8\n",
      "80000/80000 [==============================] - 62s 770us/step - loss: 1.9577 - categorical_crossentropy: 1.9577 - val_loss: 1.9268 - val_categorical_crossentropy: 1.9268\n",
      "80000/80000 [==============================] - 62s 770us/step - loss: 1.9577 - categorical_crossentropy: 1.9583 - val_loss: 1.9268 - val_categorical_crossentropy: 1.9268\n"
     ]
    },
    {
     "data": {
      "text/plain": [
       "<keras.callbacks.callbacks.History at 0x7f01953fda20>"
      ]
     },
     "execution_count": 33,
     "metadata": {},
     "output_type": "execute_result"
    }
   ],
   "source": [
    "model.fit(\n",
    "    tr_imgs, tr_probs,  \n",
    "    batch_size=BATCH_SIZE,\n",
    "    epochs=EPOCHS,\n",
    "    callbacks=[keras.callbacks.LearningRateScheduler(lr_scheduler), \n",
    "               LrHistory(), keras.callbacks.callbacks.ProgbarLogger()\n",
    "               ],\n",
    "    validation_data=(te_imgs, te_probs),\n",
    "    shuffle=True,\n",
    "    verbose=1,\n",
    "    initial_epoch=0\n",
    ")"
   ]
  },
  {
   "cell_type": "code",
   "execution_count": 34,
   "metadata": {},
   "outputs": [],
   "source": [
    "probs_pred_test = model.predict_proba(te_imgs)"
   ]
  },
  {
   "cell_type": "code",
   "execution_count": 35,
   "metadata": {},
   "outputs": [
    {
     "data": {
      "text/plain": [
       "(20000, 10)"
      ]
     },
     "execution_count": 35,
     "metadata": {},
     "output_type": "execute_result"
    }
   ],
   "source": [
    "probs_pred_test.shape"
   ]
  },
  {
   "cell_type": "code",
   "execution_count": 36,
   "metadata": {},
   "outputs": [
    {
     "data": {
      "text/plain": [
       "(20000, 10)"
      ]
     },
     "execution_count": 36,
     "metadata": {},
     "output_type": "execute_result"
    }
   ],
   "source": [
    "te_probs.shape"
   ]
  },
  {
   "cell_type": "code",
   "execution_count": 37,
   "metadata": {},
   "outputs": [
    {
     "data": {
      "text/plain": [
       "array([0.1352287 , 0.36962673, 0.05398815, 0.0038672 , 0.03100814,\n",
       "       0.13193637, 0.18738844, 0.05260244, 0.01967534, 0.01467844],\n",
       "      dtype=float32)"
      ]
     },
     "execution_count": 37,
     "metadata": {},
     "output_type": "execute_result"
    }
   ],
   "source": [
    "probs_pred_test[600,:]"
   ]
  },
  {
   "cell_type": "code",
   "execution_count": 38,
   "metadata": {},
   "outputs": [
    {
     "data": {
      "text/plain": [
       "array([1.36042449e-01, 3.61655332e-01, 5.26890314e-02, 1.71185788e-07,\n",
       "       1.71763010e-02, 1.73585579e-01, 1.90778947e-01, 3.65658482e-02,\n",
       "       1.51726231e-02, 1.63337183e-02])"
      ]
     },
     "execution_count": 38,
     "metadata": {},
     "output_type": "execute_result"
    }
   ],
   "source": [
    "te_probs[600,:]"
   ]
  },
  {
   "cell_type": "code",
   "execution_count": 39,
   "metadata": {},
   "outputs": [
    {
     "data": {
      "text/plain": [
       "array([0.19900173, 0.18162343, 0.01094513, 0.00591174, 0.02813756,\n",
       "       0.01831794, 0.08144892, 0.22735557, 0.23058031, 0.01667765],\n",
       "      dtype=float32)"
      ]
     },
     "execution_count": 39,
     "metadata": {},
     "output_type": "execute_result"
    }
   ],
   "source": [
    "probs_pred_test[1000,:]"
   ]
  },
  {
   "cell_type": "code",
   "execution_count": 40,
   "metadata": {},
   "outputs": [
    {
     "data": {
      "text/plain": [
       "array([0.16440729, 0.18030731, 0.02392762, 0.0024779 , 0.04578665,\n",
       "       0.00624418, 0.10462187, 0.24610524, 0.18137475, 0.0447472 ])"
      ]
     },
     "execution_count": 40,
     "metadata": {},
     "output_type": "execute_result"
    }
   ],
   "source": [
    "te_probs[1000,:]"
   ]
  },
  {
   "cell_type": "code",
   "execution_count": 41,
   "metadata": {},
   "outputs": [],
   "source": [
    "def rec_img(probs):\n",
    "    wts = np.sqrt(probs)\n",
    "    rec_field = np.zeros((pix,pix),complex)\n",
    "    for l in range(l_range):\n",
    "        rec_field+=wts[l]*LG_modes[l,:,:]\n",
    "    return abs(rec_field)**2"
   ]
  },
  {
   "cell_type": "code",
   "execution_count": 42,
   "metadata": {},
   "outputs": [
    {
     "data": {
      "text/plain": [
       "<matplotlib.image.AxesImage at 0x7f019415b2b0>"
      ]
     },
     "execution_count": 42,
     "metadata": {},
     "output_type": "execute_result"
    },
    {
     "data": {
      "image/png": "[encoded data removed]",
      "text/plain": [
       "<Figure size 432x288 with 1 Axes>"
      ]
     },
     "metadata": {
      "needs_background": "light"
     },
     "output_type": "display_data"
    }
   ],
   "source": [
    "pred_img = rec_img(probs_pred_test[6000,:])\n",
    "fig = plt.figure()\n",
    "plt.imshow(pred_img)"
   ]
  },
  {
   "cell_type": "code",
   "execution_count": 43,
   "metadata": {},
   "outputs": [
    {
     "data": {
      "text/plain": [
       "<matplotlib.image.AxesImage at 0x7f0195bceb38>"
      ]
     },
     "execution_count": 43,
     "metadata": {},
     "output_type": "execute_result"
    },
    {
     "data": {
      "image/png": "[encoded data removed]",
      "text/plain": [
       "<Figure size 432x288 with 1 Axes>"
      ]
     },
     "metadata": {
      "needs_background": "light"
     },
     "output_type": "display_data"
    }
   ],
   "source": [
    "act_img = rec_img(te_probs[6000,:])\n",
    "fig = plt.figure()\n",
    "plt.imshow(act_img)"
   ]
  },
  {
   "cell_type": "code",
   "execution_count": 44,
   "metadata": {},
   "outputs": [
    {
     "data": {
      "text/plain": [
       "<matplotlib.image.AxesImage at 0x7f0194150048>"
      ]
     },
     "execution_count": 44,
     "metadata": {},
     "output_type": "execute_result"
    },
    {
     "data": {
      "image/png": "[encoded data removed]",
      "text/plain": [
       "<Figure size 432x288 with 1 Axes>"
      ]
     },
     "metadata": {
      "needs_background": "light"
     },
     "output_type": "display_data"
    }
   ],
   "source": [
    "pred_img = rec_img(probs_pred_test[8000,:])\n",
    "fig = plt.figure()\n",
    "plt.imshow(pred_img)"
   ]
  },
  {
   "cell_type": "code",
   "execution_count": 46,
   "metadata": {},
   "outputs": [
    {
     "data": {
      "text/plain": [
       "<matplotlib.image.AxesImage at 0x7f0195c65908>"
      ]
     },
     "execution_count": 46,
     "metadata": {},
     "output_type": "execute_result"
    },
    {
     "data": {
      "image/png": "[encoded data removed]",
      "text/plain": [
       "<Figure size 432x288 with 1 Axes>"
      ]
     },
     "metadata": {
      "needs_background": "light"
     },
     "output_type": "display_data"
    }
   ],
   "source": [
    "act_img = rec_img(te_probs[8000,:])\n",
    "fig = plt.figure()\n",
    "plt.imshow(act_img)"
   ]
  },
  {
   "cell_type": "code",
   "execution_count": null,
   "metadata": {},
   "outputs": [],
   "source": [
    "w = K.clear_session()"
   ]
  },
  {
   "cell_type": "markdown",
   "metadata": {},
   "source": [
    "The following ResNet implementation is taken from keras.io"
   ]
  },
  {
   "cell_type": "code",
   "execution_count": null,
   "metadata": {},
   "outputs": [
    {
     "name": "stderr",
     "output_type": "stream",
     "text": [
      "Using TensorFlow backend.\n",
      "/usr/local/lib/python3.5/dist-packages/tensorflow/python/framework/dtypes.py:516: FutureWarning: Passing (type, 1) or '1type' as a synonym of type is deprecated; in a future version of numpy, it will be understood as (type, (1,)) / '(1,)type'.\n",
      "  _np_qint8 = np.dtype([(\"qint8\", np.int8, 1)])\n",
      "/usr/local/lib/python3.5/dist-packages/tensorflow/python/framework/dtypes.py:517: FutureWarning: Passing (type, 1) or '1type' as a synonym of type is deprecated; in a future version of numpy, it will be understood as (type, (1,)) / '(1,)type'.\n",
      "  _np_quint8 = np.dtype([(\"quint8\", np.uint8, 1)])\n",
      "/usr/local/lib/python3.5/dist-packages/tensorflow/python/framework/dtypes.py:518: FutureWarning: Passing (type, 1) or '1type' as a synonym of type is deprecated; in a future version of numpy, it will be understood as (type, (1,)) / '(1,)type'.\n",
      "  _np_qint16 = np.dtype([(\"qint16\", np.int16, 1)])\n",
      "/usr/local/lib/python3.5/dist-packages/tensorflow/python/framework/dtypes.py:519: FutureWarning: Passing (type, 1) or '1type' as a synonym of type is deprecated; in a future version of numpy, it will be understood as (type, (1,)) / '(1,)type'.\n",
      "  _np_quint16 = np.dtype([(\"quint16\", np.uint16, 1)])\n",
      "/usr/local/lib/python3.5/dist-packages/tensorflow/python/framework/dtypes.py:520: FutureWarning: Passing (type, 1) or '1type' as a synonym of type is deprecated; in a future version of numpy, it will be understood as (type, (1,)) / '(1,)type'.\n",
      "  _np_qint32 = np.dtype([(\"qint32\", np.int32, 1)])\n",
      "/usr/local/lib/python3.5/dist-packages/tensorflow/python/framework/dtypes.py:525: FutureWarning: Passing (type, 1) or '1type' as a synonym of type is deprecated; in a future version of numpy, it will be understood as (type, (1,)) / '(1,)type'.\n",
      "  np_resource = np.dtype([(\"resource\", np.ubyte, 1)])\n",
      "/usr/local/lib/python3.5/dist-packages/tensorboard/compat/tensorflow_stub/dtypes.py:541: FutureWarning: Passing (type, 1) or '1type' as a synonym of type is deprecated; in a future version of numpy, it will be understood as (type, (1,)) / '(1,)type'.\n",
      "  _np_qint8 = np.dtype([(\"qint8\", np.int8, 1)])\n",
      "/usr/local/lib/python3.5/dist-packages/tensorboard/compat/tensorflow_stub/dtypes.py:542: FutureWarning: Passing (type, 1) or '1type' as a synonym of type is deprecated; in a future version of numpy, it will be understood as (type, (1,)) / '(1,)type'.\n",
      "  _np_quint8 = np.dtype([(\"quint8\", np.uint8, 1)])\n",
      "/usr/local/lib/python3.5/dist-packages/tensorboard/compat/tensorflow_stub/dtypes.py:543: FutureWarning: Passing (type, 1) or '1type' as a synonym of type is deprecated; in a future version of numpy, it will be understood as (type, (1,)) / '(1,)type'.\n",
      "  _np_qint16 = np.dtype([(\"qint16\", np.int16, 1)])\n",
      "/usr/local/lib/python3.5/dist-packages/tensorboard/compat/tensorflow_stub/dtypes.py:544: FutureWarning: Passing (type, 1) or '1type' as a synonym of type is deprecated; in a future version of numpy, it will be understood as (type, (1,)) / '(1,)type'.\n",
      "  _np_quint16 = np.dtype([(\"quint16\", np.uint16, 1)])\n",
      "/usr/local/lib/python3.5/dist-packages/tensorboard/compat/tensorflow_stub/dtypes.py:545: FutureWarning: Passing (type, 1) or '1type' as a synonym of type is deprecated; in a future version of numpy, it will be understood as (type, (1,)) / '(1,)type'.\n",
      "  _np_qint32 = np.dtype([(\"qint32\", np.int32, 1)])\n",
      "/usr/local/lib/python3.5/dist-packages/tensorboard/compat/tensorflow_stub/dtypes.py:550: FutureWarning: Passing (type, 1) or '1type' as a synonym of type is deprecated; in a future version of numpy, it will be understood as (type, (1,)) / '(1,)type'.\n",
      "  np_resource = np.dtype([(\"resource\", np.ubyte, 1)])\n"
     ]
    },
    {
     "name": "stdout",
     "output_type": "stream",
     "text": [
      "x_train shape: (80000, 75, 75, 1)\n",
      "80000 train samples\n",
      "20000 test samples\n",
      "y_train shape: (80000, 10)\n",
      "WARNING:tensorflow:From /usr/local/lib/python3.5/dist-packages/keras/backend/tensorflow_backend.py:4074: The name tf.nn.avg_pool is deprecated. Please use tf.nn.avg_pool2d instead.\n",
      "\n",
      "Learning rate:  0.001\n",
      "Model: \"model_1\"\n",
      "__________________________________________________________________________________________________\n",
      "Layer (type)                    Output Shape         Param #     Connected to                     \n",
      "==================================================================================================\n",
      "input_1 (InputLayer)            (None, 75, 75, 1)    0                                            \n",
      "__________________________________________________________________________________________________\n",
      "conv2d_1 (Conv2D)               (None, 75, 75, 16)   160         input_1[0][0]                    \n",
      "__________________________________________________________________________________________________\n",
      "batch_normalization_1 (BatchNor (None, 75, 75, 16)   64          conv2d_1[0][0]                   \n",
      "__________________________________________________________________________________________________\n",
      "activation_1 (Activation)       (None, 75, 75, 16)   0           batch_normalization_1[0][0]      \n",
      "__________________________________________________________________________________________________\n",
      "conv2d_2 (Conv2D)               (None, 75, 75, 16)   2320        activation_1[0][0]               \n",
      "__________________________________________________________________________________________________\n",
      "batch_normalization_2 (BatchNor (None, 75, 75, 16)   64          conv2d_2[0][0]                   \n",
      "__________________________________________________________________________________________________\n",
      "activation_2 (Activation)       (None, 75, 75, 16)   0           batch_normalization_2[0][0]      \n",
      "__________________________________________________________________________________________________\n",
      "conv2d_3 (Conv2D)               (None, 75, 75, 16)   2320        activation_2[0][0]               \n",
      "__________________________________________________________________________________________________\n",
      "batch_normalization_3 (BatchNor (None, 75, 75, 16)   64          conv2d_3[0][0]                   \n",
      "__________________________________________________________________________________________________\n",
      "add_1 (Add)                     (None, 75, 75, 16)   0           activation_1[0][0]               \n",
      "                                                                 batch_normalization_3[0][0]      \n",
      "__________________________________________________________________________________________________\n",
      "activation_3 (Activation)       (None, 75, 75, 16)   0           add_1[0][0]                      \n",
      "__________________________________________________________________________________________________\n",
      "conv2d_4 (Conv2D)               (None, 75, 75, 16)   2320        activation_3[0][0]               \n",
      "__________________________________________________________________________________________________\n",
      "batch_normalization_4 (BatchNor (None, 75, 75, 16)   64          conv2d_4[0][0]                   \n",
      "__________________________________________________________________________________________________\n",
      "activation_4 (Activation)       (None, 75, 75, 16)   0           batch_normalization_4[0][0]      \n",
      "__________________________________________________________________________________________________\n",
      "conv2d_5 (Conv2D)               (None, 75, 75, 16)   2320        activation_4[0][0]               \n",
      "__________________________________________________________________________________________________\n",
      "batch_normalization_5 (BatchNor (None, 75, 75, 16)   64          conv2d_5[0][0]                   \n",
      "__________________________________________________________________________________________________\n",
      "add_2 (Add)                     (None, 75, 75, 16)   0           activation_3[0][0]               \n",
      "                                                                 batch_normalization_5[0][0]      \n",
      "__________________________________________________________________________________________________\n",
      "activation_5 (Activation)       (None, 75, 75, 16)   0           add_2[0][0]                      \n",
      "__________________________________________________________________________________________________\n",
      "conv2d_6 (Conv2D)               (None, 75, 75, 16)   2320        activation_5[0][0]               \n",
      "__________________________________________________________________________________________________\n",
      "batch_normalization_6 (BatchNor (None, 75, 75, 16)   64          conv2d_6[0][0]                   \n",
      "__________________________________________________________________________________________________\n",
      "activation_6 (Activation)       (None, 75, 75, 16)   0           batch_normalization_6[0][0]      \n",
      "__________________________________________________________________________________________________\n",
      "conv2d_7 (Conv2D)               (None, 75, 75, 16)   2320        activation_6[0][0]               \n",
      "__________________________________________________________________________________________________\n",
      "batch_normalization_7 (BatchNor (None, 75, 75, 16)   64          conv2d_7[0][0]                   \n",
      "__________________________________________________________________________________________________\n",
      "add_3 (Add)                     (None, 75, 75, 16)   0           activation_5[0][0]               \n",
      "                                                                 batch_normalization_7[0][0]      \n",
      "__________________________________________________________________________________________________\n",
      "activation_7 (Activation)       (None, 75, 75, 16)   0           add_3[0][0]                      \n",
      "__________________________________________________________________________________________________\n",
      "conv2d_8 (Conv2D)               (None, 38, 38, 32)   4640        activation_7[0][0]               \n",
      "__________________________________________________________________________________________________\n",
      "batch_normalization_8 (BatchNor (None, 38, 38, 32)   128         conv2d_8[0][0]                   \n",
      "__________________________________________________________________________________________________\n",
      "activation_8 (Activation)       (None, 38, 38, 32)   0           batch_normalization_8[0][0]      \n",
      "__________________________________________________________________________________________________\n",
      "conv2d_9 (Conv2D)               (None, 38, 38, 32)   9248        activation_8[0][0]               \n",
      "__________________________________________________________________________________________________\n",
      "conv2d_10 (Conv2D)              (None, 38, 38, 32)   544         activation_7[0][0]               \n",
      "__________________________________________________________________________________________________\n",
      "batch_normalization_9 (BatchNor (None, 38, 38, 32)   128         conv2d_9[0][0]                   \n",
      "__________________________________________________________________________________________________\n",
      "add_4 (Add)                     (None, 38, 38, 32)   0           conv2d_10[0][0]                  \n",
      "                                                                 batch_normalization_9[0][0]      \n",
      "__________________________________________________________________________________________________\n",
      "activation_9 (Activation)       (None, 38, 38, 32)   0           add_4[0][0]                      \n",
      "__________________________________________________________________________________________________\n",
      "conv2d_11 (Conv2D)              (None, 38, 38, 32)   9248        activation_9[0][0]               \n",
      "__________________________________________________________________________________________________\n",
      "batch_normalization_10 (BatchNo (None, 38, 38, 32)   128         conv2d_11[0][0]                  \n",
      "__________________________________________________________________________________________________\n",
      "activation_10 (Activation)      (None, 38, 38, 32)   0           batch_normalization_10[0][0]     \n",
      "__________________________________________________________________________________________________\n",
      "conv2d_12 (Conv2D)              (None, 38, 38, 32)   9248        activation_10[0][0]              \n",
      "__________________________________________________________________________________________________\n",
      "batch_normalization_11 (BatchNo (None, 38, 38, 32)   128         conv2d_12[0][0]                  \n",
      "__________________________________________________________________________________________________\n",
      "add_5 (Add)                     (None, 38, 38, 32)   0           activation_9[0][0]               \n",
      "                                                                 batch_normalization_11[0][0]     \n",
      "__________________________________________________________________________________________________\n",
      "activation_11 (Activation)      (None, 38, 38, 32)   0           add_5[0][0]                      \n",
      "__________________________________________________________________________________________________\n",
      "conv2d_13 (Conv2D)              (None, 38, 38, 32)   9248        activation_11[0][0]              \n",
      "__________________________________________________________________________________________________\n",
      "batch_normalization_12 (BatchNo (None, 38, 38, 32)   128         conv2d_13[0][0]                  \n",
      "__________________________________________________________________________________________________\n",
      "activation_12 (Activation)      (None, 38, 38, 32)   0           batch_normalization_12[0][0]     \n",
      "__________________________________________________________________________________________________\n",
      "conv2d_14 (Conv2D)              (None, 38, 38, 32)   9248        activation_12[0][0]              \n",
      "__________________________________________________________________________________________________\n",
      "batch_normalization_13 (BatchNo (None, 38, 38, 32)   128         conv2d_14[0][0]                  \n",
      "__________________________________________________________________________________________________\n",
      "add_6 (Add)                     (None, 38, 38, 32)   0           activation_11[0][0]              \n",
      "                                                                 batch_normalization_13[0][0]     \n",
      "__________________________________________________________________________________________________\n",
      "activation_13 (Activation)      (None, 38, 38, 32)   0           add_6[0][0]                      \n",
      "__________________________________________________________________________________________________\n",
      "conv2d_15 (Conv2D)              (None, 19, 19, 64)   18496       activation_13[0][0]              \n",
      "__________________________________________________________________________________________________\n",
      "batch_normalization_14 (BatchNo (None, 19, 19, 64)   256         conv2d_15[0][0]                  \n",
      "__________________________________________________________________________________________________\n",
      "activation_14 (Activation)      (None, 19, 19, 64)   0           batch_normalization_14[0][0]     \n",
      "__________________________________________________________________________________________________\n",
      "conv2d_16 (Conv2D)              (None, 19, 19, 64)   36928       activation_14[0][0]              \n",
      "__________________________________________________________________________________________________\n",
      "conv2d_17 (Conv2D)              (None, 19, 19, 64)   2112        activation_13[0][0]              \n",
      "__________________________________________________________________________________________________\n",
      "batch_normalization_15 (BatchNo (None, 19, 19, 64)   256         conv2d_16[0][0]                  \n",
      "__________________________________________________________________________________________________\n",
      "add_7 (Add)                     (None, 19, 19, 64)   0           conv2d_17[0][0]                  \n",
      "                                                                 batch_normalization_15[0][0]     \n",
      "__________________________________________________________________________________________________\n",
      "activation_15 (Activation)      (None, 19, 19, 64)   0           add_7[0][0]                      \n",
      "__________________________________________________________________________________________________\n",
      "conv2d_18 (Conv2D)              (None, 19, 19, 64)   36928       activation_15[0][0]              \n",
      "__________________________________________________________________________________________________\n",
      "batch_normalization_16 (BatchNo (None, 19, 19, 64)   256         conv2d_18[0][0]                  \n",
      "__________________________________________________________________________________________________\n",
      "activation_16 (Activation)      (None, 19, 19, 64)   0           batch_normalization_16[0][0]     \n",
      "__________________________________________________________________________________________________\n",
      "conv2d_19 (Conv2D)              (None, 19, 19, 64)   36928       activation_16[0][0]              \n",
      "__________________________________________________________________________________________________\n",
      "batch_normalization_17 (BatchNo (None, 19, 19, 64)   256         conv2d_19[0][0]                  \n",
      "__________________________________________________________________________________________________\n",
      "add_8 (Add)                     (None, 19, 19, 64)   0           activation_15[0][0]              \n",
      "                                                                 batch_normalization_17[0][0]     \n",
      "__________________________________________________________________________________________________\n",
      "activation_17 (Activation)      (None, 19, 19, 64)   0           add_8[0][0]                      \n",
      "__________________________________________________________________________________________________\n",
      "conv2d_20 (Conv2D)              (None, 19, 19, 64)   36928       activation_17[0][0]              \n",
      "__________________________________________________________________________________________________\n",
      "batch_normalization_18 (BatchNo (None, 19, 19, 64)   256         conv2d_20[0][0]                  \n",
      "__________________________________________________________________________________________________\n",
      "activation_18 (Activation)      (None, 19, 19, 64)   0           batch_normalization_18[0][0]     \n",
      "__________________________________________________________________________________________________\n",
      "conv2d_21 (Conv2D)              (None, 19, 19, 64)   36928       activation_18[0][0]              \n",
      "__________________________________________________________________________________________________\n",
      "batch_normalization_19 (BatchNo (None, 19, 19, 64)   256         conv2d_21[0][0]                  \n",
      "__________________________________________________________________________________________________\n",
      "add_9 (Add)                     (None, 19, 19, 64)   0           activation_17[0][0]              \n",
      "                                                                 batch_normalization_19[0][0]     \n",
      "__________________________________________________________________________________________________\n",
      "activation_19 (Activation)      (None, 19, 19, 64)   0           add_9[0][0]                      \n",
      "__________________________________________________________________________________________________\n",
      "average_pooling2d_1 (AveragePoo (None, 2, 2, 64)     0           activation_19[0][0]              \n",
      "__________________________________________________________________________________________________\n",
      "flatten_1 (Flatten)             (None, 256)          0           average_pooling2d_1[0][0]        \n",
      "__________________________________________________________________________________________________\n",
      "dense_1 (Dense)                 (None, 10)           2570        flatten_1[0][0]                  \n",
      "==================================================================================================\n",
      "Total params: 276,074\n",
      "Trainable params: 274,698\n",
      "Non-trainable params: 1,376\n",
      "__________________________________________________________________________________________________\n",
      "ResNet20v1\n",
      "Not using data augmentation.\n",
      "WARNING:tensorflow:From /usr/local/lib/python3.5/dist-packages/keras/backend/tensorflow_backend.py:422: The name tf.global_variables is deprecated. Please use tf.compat.v1.global_variables instead.\n",
      "\n",
      "Train on 80000 samples, validate on 20000 samples\n",
      "Epoch 1/200\n",
      "Learning rate:  0.001\n",
      "80000/80000 [==============================] - 191s 2ms/step - loss: 2.2285 - accuracy: 0.4377 - val_loss: 2.3894 - val_accuracy: 0.1822\n",
      "Epoch 2/200\n",
      "Learning rate:  0.001\n",
      "   64/80000 [..............................] - ETA: 2:49 - loss: 2.1313 - accuracy: 0.5156"
     ]
    },
    {
     "name": "stderr",
     "output_type": "stream",
     "text": [
      "/usr/local/lib/python3.5/dist-packages/keras/callbacks/callbacks.py:707: RuntimeWarning: Can save best model only with val_acc available, skipping.\n",
      "  'skipping.' % (self.monitor), RuntimeWarning)\n"
     ]
    },
    {
     "name": "stdout",
     "output_type": "stream",
     "text": [
      "80000/80000 [==============================] - 177s 2ms/step - loss: 2.0711 - accuracy: 0.5997 - val_loss: 2.0790 - val_accuracy: 0.5559\n",
      "Epoch 3/200\n",
      "Learning rate:  0.001\n",
      "80000/80000 [==============================] - 176s 2ms/step - loss: 2.0153 - accuracy: 0.6633 - val_loss: 2.0596 - val_accuracy: 0.6337\n",
      "Epoch 4/200\n",
      "Learning rate:  0.001\n",
      "80000/80000 [==============================] - 177s 2ms/step - loss: 1.9875 - accuracy: 0.6900 - val_loss: 2.0064 - val_accuracy: 0.6571\n",
      "Epoch 5/200\n",
      "Learning rate:  0.001\n",
      "80000/80000 [==============================] - 178s 2ms/step - loss: 1.9678 - accuracy: 0.7023 - val_loss: 2.0246 - val_accuracy: 0.6316\n",
      "Epoch 6/200\n",
      "Learning rate:  0.001\n",
      "80000/80000 [==============================] - 178s 2ms/step - loss: 1.9517 - accuracy: 0.7144 - val_loss: 1.9605 - val_accuracy: 0.6992\n",
      "Epoch 7/200\n",
      "Learning rate:  0.001\n",
      "80000/80000 [==============================] - 177s 2ms/step - loss: 1.9420 - accuracy: 0.7268 - val_loss: 1.9412 - val_accuracy: 0.7456\n",
      "Epoch 8/200\n",
      "Learning rate:  0.001\n",
      "80000/80000 [==============================] - 177s 2ms/step - loss: 1.9366 - accuracy: 0.7347 - val_loss: 1.9426 - val_accuracy: 0.7164\n",
      "Epoch 9/200\n",
      "Learning rate:  0.001\n",
      "80000/80000 [==============================] - 176s 2ms/step - loss: 1.9318 - accuracy: 0.7443 - val_loss: 1.9491 - val_accuracy: 0.6957\n",
      "Epoch 10/200\n",
      "Learning rate:  0.001\n",
      "80000/80000 [==============================] - 176s 2ms/step - loss: 1.9271 - accuracy: 0.7537 - val_loss: 1.9608 - val_accuracy: 0.6994\n",
      "Epoch 11/200\n",
      "Learning rate:  0.001\n",
      "80000/80000 [==============================] - 176s 2ms/step - loss: 1.9242 - accuracy: 0.7562 - val_loss: 1.9329 - val_accuracy: 0.7312\n",
      "Epoch 12/200\n",
      "Learning rate:  0.001\n",
      "80000/80000 [==============================] - 176s 2ms/step - loss: 1.9217 - accuracy: 0.7658 - val_loss: 1.9397 - val_accuracy: 0.7504\n",
      "Epoch 13/200\n",
      "Learning rate:  0.001\n",
      "80000/80000 [==============================] - 177s 2ms/step - loss: 1.9197 - accuracy: 0.7720 - val_loss: 1.9678 - val_accuracy: 0.6995\n",
      "Epoch 14/200\n",
      "Learning rate:  0.001\n",
      "80000/80000 [==============================] - 177s 2ms/step - loss: 1.9180 - accuracy: 0.7748 - val_loss: 1.9658 - val_accuracy: 0.6982\n",
      "Epoch 15/200\n",
      "Learning rate:  0.001\n",
      "80000/80000 [==============================] - 177s 2ms/step - loss: 1.9168 - accuracy: 0.7777 - val_loss: 1.9341 - val_accuracy: 0.7534\n",
      "Epoch 16/200\n",
      "Learning rate:  0.001\n",
      "80000/80000 [==============================] - 177s 2ms/step - loss: 1.9157 - accuracy: 0.7803 - val_loss: 1.9326 - val_accuracy: 0.7051\n",
      "Epoch 17/200\n",
      "Learning rate:  0.001\n",
      "80000/80000 [==============================] - 176s 2ms/step - loss: 1.9145 - accuracy: 0.7869 - val_loss: 1.9210 - val_accuracy: 0.7452\n",
      "Epoch 18/200\n",
      "Learning rate:  0.001\n",
      "80000/80000 [==============================] - 176s 2ms/step - loss: 1.9137 - accuracy: 0.7869 - val_loss: 1.9213 - val_accuracy: 0.7458\n",
      "Epoch 19/200\n",
      "Learning rate:  0.001\n",
      "80000/80000 [==============================] - 176s 2ms/step - loss: 1.9128 - accuracy: 0.7916 - val_loss: 1.9472 - val_accuracy: 0.7377\n",
      "Epoch 20/200\n",
      "Learning rate:  0.001\n",
      "80000/80000 [==============================] - 176s 2ms/step - loss: 1.9124 - accuracy: 0.7916 - val_loss: 1.9293 - val_accuracy: 0.7484\n",
      "Epoch 21/200\n",
      "Learning rate:  0.001\n",
      "80000/80000 [==============================] - 177s 2ms/step - loss: 1.9117 - accuracy: 0.7926 - val_loss: 1.9286 - val_accuracy: 0.7355\n",
      "Epoch 22/200\n",
      "Learning rate:  0.001\n",
      "80000/80000 [==============================] - 177s 2ms/step - loss: 1.9112 - accuracy: 0.7935 - val_loss: 1.9750 - val_accuracy: 0.6442\n",
      "Epoch 23/200\n",
      "Learning rate:  0.001\n",
      "80000/80000 [==============================] - 177s 2ms/step - loss: 1.9107 - accuracy: 0.7952 - val_loss: 1.9167 - val_accuracy: 0.7886\n",
      "Epoch 24/200\n",
      "Learning rate:  0.001\n",
      "80000/80000 [==============================] - 177s 2ms/step - loss: 1.9102 - accuracy: 0.7962 - val_loss: 1.9322 - val_accuracy: 0.6597\n",
      "Epoch 25/200\n",
      "Learning rate:  0.001\n",
      "80000/80000 [==============================] - 177s 2ms/step - loss: 1.9099 - accuracy: 0.7977 - val_loss: 1.9262 - val_accuracy: 0.7247\n",
      "Epoch 26/200\n",
      "Learning rate:  0.001\n",
      "80000/80000 [==============================] - 177s 2ms/step - loss: 1.9098 - accuracy: 0.7991 - val_loss: 1.9504 - val_accuracy: 0.7055\n",
      "Epoch 27/200\n",
      "Learning rate:  0.001\n",
      "80000/80000 [==============================] - 177s 2ms/step - loss: 1.9095 - accuracy: 0.7988 - val_loss: 1.9481 - val_accuracy: 0.7088\n",
      "Epoch 28/200\n",
      "Learning rate:  0.001\n",
      "80000/80000 [==============================] - 177s 2ms/step - loss: 1.9089 - accuracy: 0.8030 - val_loss: 2.0868 - val_accuracy: 0.4674\n",
      "Epoch 29/200\n",
      "Learning rate:  0.001\n",
      "80000/80000 [==============================] - 176s 2ms/step - loss: 1.9088 - accuracy: 0.8023 - val_loss: 2.0963 - val_accuracy: 0.4445\n",
      "Epoch 30/200\n",
      "Learning rate:  0.001\n",
      "80000/80000 [==============================] - 177s 2ms/step - loss: 1.9085 - accuracy: 0.8020 - val_loss: 1.9308 - val_accuracy: 0.6820\n",
      "Epoch 31/200\n",
      "Learning rate:  0.001\n",
      "80000/80000 [==============================] - 176s 2ms/step - loss: 1.9084 - accuracy: 0.8029 - val_loss: 1.9182 - val_accuracy: 0.7826\n",
      "Epoch 32/200\n",
      "Learning rate:  0.001\n",
      "80000/80000 [==============================] - 177s 2ms/step - loss: 1.9079 - accuracy: 0.8016 - val_loss: 1.9518 - val_accuracy: 0.6349\n",
      "Epoch 33/200\n",
      "Learning rate:  0.001\n",
      "80000/80000 [==============================] - 176s 2ms/step - loss: 1.9080 - accuracy: 0.8033 - val_loss: 1.9704 - val_accuracy: 0.7113\n",
      "Epoch 34/200\n",
      "Learning rate:  0.001\n",
      "80000/80000 [==============================] - 176s 2ms/step - loss: 1.9075 - accuracy: 0.8061 - val_loss: 1.9434 - val_accuracy: 0.7203\n",
      "Epoch 35/200\n",
      "Learning rate:  0.001\n",
      "80000/80000 [==============================] - 177s 2ms/step - loss: 1.9073 - accuracy: 0.8056 - val_loss: 1.9268 - val_accuracy: 0.7645\n",
      "Epoch 36/200\n",
      "Learning rate:  0.001\n",
      "80000/80000 [==============================] - 178s 2ms/step - loss: 1.9071 - accuracy: 0.8078 - val_loss: 2.0334 - val_accuracy: 0.5306\n",
      "Epoch 37/200\n",
      "Learning rate:  0.001\n",
      "80000/80000 [==============================] - 177s 2ms/step - loss: 1.9070 - accuracy: 0.8032 - val_loss: 1.9919 - val_accuracy: 0.5673\n",
      "Epoch 38/200\n",
      "Learning rate:  0.001\n",
      "80000/80000 [==============================] - 177s 2ms/step - loss: 1.9068 - accuracy: 0.8062 - val_loss: 1.9614 - val_accuracy: 0.6520\n",
      "Epoch 39/200\n",
      "Learning rate:  0.001\n",
      "80000/80000 [==============================] - 178s 2ms/step - loss: 1.9066 - accuracy: 0.8058 - val_loss: 1.9170 - val_accuracy: 0.7558\n",
      "Epoch 40/200\n",
      "Learning rate:  0.001\n",
      "80000/80000 [==============================] - 176s 2ms/step - loss: 1.9065 - accuracy: 0.8088 - val_loss: 1.9555 - val_accuracy: 0.6647\n",
      "Epoch 41/200\n",
      "Learning rate:  0.001\n",
      "52000/80000 [==================>...........] - ETA: 57s - loss: 1.9063 - accuracy: 0.8075"
     ]
    },
    {
     "name": "stderr",
     "output_type": "stream",
     "text": [
      "IOPub message rate exceeded.\n",
      "The notebook server will temporarily stop sending output\n",
      "to the client in order to avoid crashing it.\n",
      "To change this limit, set the config variable\n",
      "`--NotebookApp.iopub_msg_rate_limit`.\n",
      "\n",
      "Current values:\n",
      "NotebookApp.iopub_msg_rate_limit=1000.0 (msgs/sec)\n",
      "NotebookApp.rate_limit_window=3.0 (secs)\n",
      "\n"
     ]
    },
    {
     "name": "stdout",
     "output_type": "stream",
     "text": [
      "80000/80000 [==============================] - 176s 2ms/step - loss: 1.9061 - accuracy: 0.8071 - val_loss: 1.9288 - val_accuracy: 0.7462\n",
      "Epoch 44/200\n",
      "Learning rate:  0.001\n",
      "80000/80000 [==============================] - 177s 2ms/step - loss: 1.9058 - accuracy: 0.8086 - val_loss: 1.9748 - val_accuracy: 0.6030\n",
      "Epoch 45/200\n",
      "Learning rate:  0.001\n",
      "80000/80000 [==============================] - 177s 2ms/step - loss: 1.9056 - accuracy: 0.8121 - val_loss: 1.9437 - val_accuracy: 0.6808\n",
      "Epoch 46/200\n",
      "Learning rate:  0.001\n",
      "80000/80000 [==============================] - 177s 2ms/step - loss: 1.9056 - accuracy: 0.8108 - val_loss: 1.9473 - val_accuracy: 0.6835\n",
      "Epoch 47/200\n",
      "Learning rate:  0.001\n",
      "80000/80000 [==============================] - 177s 2ms/step - loss: 1.9056 - accuracy: 0.8124 - val_loss: 1.9196 - val_accuracy: 0.7433\n",
      "Epoch 48/200\n",
      "Learning rate:  0.001\n",
      "80000/80000 [==============================] - 177s 2ms/step - loss: 1.9053 - accuracy: 0.8118 - val_loss: 1.9986 - val_accuracy: 0.4527\n",
      "Epoch 49/200\n",
      "Learning rate:  0.001\n",
      "80000/80000 [==============================] - 177s 2ms/step - loss: 1.9053 - accuracy: 0.8111 - val_loss: 1.9853 - val_accuracy: 0.5031\n",
      "Epoch 50/200\n",
      "Learning rate:  0.001\n",
      "80000/80000 [==============================] - 177s 2ms/step - loss: 1.9052 - accuracy: 0.8112 - val_loss: 1.9813 - val_accuracy: 0.6259\n",
      "Epoch 51/200\n",
      "Learning rate:  0.001\n",
      "80000/80000 [==============================] - 177s 2ms/step - loss: 1.9052 - accuracy: 0.8135 - val_loss: 2.0176 - val_accuracy: 0.4245\n",
      "Epoch 52/200\n",
      "Learning rate:  0.001\n",
      "80000/80000 [==============================] - 177s 2ms/step - loss: 1.9051 - accuracy: 0.8127 - val_loss: 2.8655 - val_accuracy: 0.1762\n",
      "Epoch 53/200\n",
      "Learning rate:  0.001\n",
      "80000/80000 [==============================] - 176s 2ms/step - loss: 1.9051 - accuracy: 0.8117 - val_loss: 1.9990 - val_accuracy: 0.5683\n",
      "Epoch 54/200\n",
      "Learning rate:  0.001\n",
      "80000/80000 [==============================] - 177s 2ms/step - loss: 1.9050 - accuracy: 0.8127 - val_loss: 2.1235 - val_accuracy: 0.3759\n",
      "Epoch 55/200\n",
      "Learning rate:  0.001\n",
      "80000/80000 [==============================] - 178s 2ms/step - loss: 1.9049 - accuracy: 0.8144 - val_loss: 1.9411 - val_accuracy: 0.6155\n",
      "Epoch 56/200\n",
      "Learning rate:  0.001\n",
      "80000/80000 [==============================] - 178s 2ms/step - loss: 1.9048 - accuracy: 0.8127 - val_loss: 1.9376 - val_accuracy: 0.7522\n",
      "Epoch 57/200\n",
      "Learning rate:  0.001\n",
      "80000/80000 [==============================] - 178s 2ms/step - loss: 1.9048 - accuracy: 0.8127 - val_loss: 1.9652 - val_accuracy: 0.5523\n",
      "Epoch 58/200\n",
      "Learning rate:  0.001\n",
      "80000/80000 [==============================] - 179s 2ms/step - loss: 1.9047 - accuracy: 0.8141 - val_loss: 2.2434 - val_accuracy: 0.1849\n",
      "Epoch 59/200\n",
      "Learning rate:  0.001\n",
      "80000/80000 [==============================] - 181s 2ms/step - loss: 1.9045 - accuracy: 0.8127 - val_loss: 2.4682 - val_accuracy: 0.2488\n",
      "Epoch 60/200\n",
      "Learning rate:  0.001\n",
      "80000/80000 [==============================] - 178s 2ms/step - loss: 1.9046 - accuracy: 0.8102 - val_loss: 2.0021 - val_accuracy: 0.5301\n",
      "Epoch 61/200\n",
      "Learning rate:  0.001\n",
      "80000/80000 [==============================] - 178s 2ms/step - loss: 1.9044 - accuracy: 0.8153 - val_loss: 1.9309 - val_accuracy: 0.7342\n",
      "Epoch 62/200\n",
      "Learning rate:  0.001\n",
      "80000/80000 [==============================] - 178s 2ms/step - loss: 1.9043 - accuracy: 0.8140 - val_loss: 2.1123 - val_accuracy: 0.4449\n",
      "Epoch 63/200\n",
      "Learning rate:  0.001\n",
      "80000/80000 [==============================] - 177s 2ms/step - loss: 1.9044 - accuracy: 0.8147 - val_loss: 1.9673 - val_accuracy: 0.6588\n",
      "Epoch 64/200\n",
      "Learning rate:  0.001\n",
      "80000/80000 [==============================] - 178s 2ms/step - loss: 1.9042 - accuracy: 0.8164 - val_loss: 2.5151 - val_accuracy: 0.1638\n",
      "Epoch 65/200\n",
      "Learning rate:  0.001\n",
      "80000/80000 [==============================] - 178s 2ms/step - loss: 1.9043 - accuracy: 0.8141 - val_loss: 2.0279 - val_accuracy: 0.4887\n",
      "Epoch 66/200\n",
      "Learning rate:  0.001\n",
      "80000/80000 [==============================] - 178s 2ms/step - loss: 1.9041 - accuracy: 0.8149 - val_loss: 1.9695 - val_accuracy: 0.6214\n",
      "Epoch 67/200\n",
      "Learning rate:  0.001\n",
      "80000/80000 [==============================] - 178s 2ms/step - loss: 1.9041 - accuracy: 0.8152 - val_loss: 1.9591 - val_accuracy: 0.6156\n",
      "Epoch 68/200\n",
      "Learning rate:  0.001\n",
      "80000/80000 [==============================] - 178s 2ms/step - loss: 1.9041 - accuracy: 0.8135 - val_loss: 2.1656 - val_accuracy: 0.3737\n",
      "Epoch 69/200\n",
      "Learning rate:  0.001\n",
      "80000/80000 [==============================] - 177s 2ms/step - loss: 1.9038 - accuracy: 0.8167 - val_loss: 2.8923 - val_accuracy: 0.1020\n",
      "Epoch 70/200\n",
      "Learning rate:  0.001\n",
      "80000/80000 [==============================] - 177s 2ms/step - loss: 1.9037 - accuracy: 0.8165 - val_loss: 1.9912 - val_accuracy: 0.5705\n",
      "Epoch 71/200\n",
      "Learning rate:  0.001\n",
      "80000/80000 [==============================] - 177s 2ms/step - loss: 1.9036 - accuracy: 0.8173 - val_loss: 1.9680 - val_accuracy: 0.5497\n",
      "Epoch 72/200\n",
      "Learning rate:  0.001\n",
      "80000/80000 [==============================] - 176s 2ms/step - loss: 1.9034 - accuracy: 0.8170 - val_loss: 2.0589 - val_accuracy: 0.4274\n",
      "Epoch 73/200\n",
      "Learning rate:  0.001\n",
      "80000/80000 [==============================] - 177s 2ms/step - loss: 1.9031 - accuracy: 0.8187 - val_loss: 1.9717 - val_accuracy: 0.6223\n",
      "Epoch 74/200\n",
      "Learning rate:  0.001\n",
      "80000/80000 [==============================] - 177s 2ms/step - loss: 1.9033 - accuracy: 0.8170 - val_loss: 1.9444 - val_accuracy: 0.6421\n",
      "Epoch 75/200\n",
      "Learning rate:  0.001\n",
      "80000/80000 [==============================] - 176s 2ms/step - loss: 1.9030 - accuracy: 0.8195 - val_loss: 2.4057 - val_accuracy: 0.2549\n",
      "Epoch 76/200\n",
      "Learning rate:  0.001\n",
      "80000/80000 [==============================] - 177s 2ms/step - loss: 1.9029 - accuracy: 0.8189 - val_loss: 2.2201 - val_accuracy: 0.3283\n",
      "Epoch 77/200\n",
      "Learning rate:  0.001\n",
      "80000/80000 [==============================] - 178s 2ms/step - loss: 1.9026 - accuracy: 0.8219 - val_loss: 2.0262 - val_accuracy: 0.5426\n",
      "Epoch 78/200\n",
      "Learning rate:  0.001\n",
      "80000/80000 [==============================] - 177s 2ms/step - loss: 1.9026 - accuracy: 0.8232 - val_loss: 1.9639 - val_accuracy: 0.5634\n",
      "Epoch 79/200\n",
      "Learning rate:  0.001\n",
      "80000/80000 [==============================] - 177s 2ms/step - loss: 1.9024 - accuracy: 0.8191 - val_loss: 1.9627 - val_accuracy: 0.6398\n",
      "Epoch 80/200\n",
      "Learning rate:  0.001\n",
      "80000/80000 [==============================] - 178s 2ms/step - loss: 1.9023 - accuracy: 0.8218 - val_loss: 2.0238 - val_accuracy: 0.4575\n",
      "Epoch 81/200\n",
      "Learning rate:  0.001\n",
      "80000/80000 [==============================] - 177s 2ms/step - loss: 1.9021 - accuracy: 0.8220 - val_loss: 1.9572 - val_accuracy: 0.6617\n",
      "Epoch 82/200\n",
      "Learning rate:  0.0001\n",
      "80000/80000 [==============================] - 179s 2ms/step - loss: 1.8946 - accuracy: 0.8744 - val_loss: 1.8969 - val_accuracy: 0.8625\n",
      "Epoch 83/200\n",
      "Learning rate:  0.0001\n",
      "80000/80000 [==============================] - 178s 2ms/step - loss: 1.8932 - accuracy: 0.8789 - val_loss: 1.8945 - val_accuracy: 0.8676\n",
      "Epoch 84/200\n",
      "Learning rate:  0.0001\n",
      "80000/80000 [==============================] - 177s 2ms/step - loss: 1.8924 - accuracy: 0.8816 - val_loss: 1.8982 - val_accuracy: 0.8224\n",
      "Epoch 85/200\n",
      "Learning rate:  0.0001\n",
      "80000/80000 [==============================] - 177s 2ms/step - loss: 1.8918 - accuracy: 0.8842 - val_loss: 1.8953 - val_accuracy: 0.8536\n",
      "Epoch 86/200\n",
      "Learning rate:  0.0001\n",
      "80000/80000 [==============================] - 177s 2ms/step - loss: 1.8914 - accuracy: 0.8841 - val_loss: 1.8969 - val_accuracy: 0.8489\n",
      "Epoch 87/200\n",
      "Learning rate:  0.0001\n",
      "80000/80000 [==============================] - 177s 2ms/step - loss: 1.8909 - accuracy: 0.8862 - val_loss: 1.9004 - val_accuracy: 0.7879\n",
      "Epoch 88/200\n",
      "Learning rate:  0.0001\n",
      "80000/80000 [==============================] - 177s 2ms/step - loss: 1.8906 - accuracy: 0.8859 - val_loss: 1.8922 - val_accuracy: 0.8733\n",
      "Epoch 89/200\n",
      "Learning rate:  0.0001\n",
      "80000/80000 [==============================] - 176s 2ms/step - loss: 1.8904 - accuracy: 0.8867 - val_loss: 1.9086 - val_accuracy: 0.7837\n",
      "Epoch 90/200\n",
      "Learning rate:  0.0001\n",
      "80000/80000 [==============================] - 176s 2ms/step - loss: 1.8901 - accuracy: 0.8878 - val_loss: 1.8926 - val_accuracy: 0.8609\n",
      "Epoch 91/200\n",
      "Learning rate:  0.0001\n",
      "80000/80000 [==============================] - 176s 2ms/step - loss: 1.8899 - accuracy: 0.8886 - val_loss: 1.8940 - val_accuracy: 0.8602\n",
      "Epoch 92/200\n",
      "Learning rate:  0.0001\n",
      "80000/80000 [==============================] - 177s 2ms/step - loss: 1.8897 - accuracy: 0.8898 - val_loss: 1.9154 - val_accuracy: 0.7496\n",
      "Epoch 93/200\n",
      "Learning rate:  0.0001\n",
      "80000/80000 [==============================] - 176s 2ms/step - loss: 1.8895 - accuracy: 0.8906 - val_loss: 1.8917 - val_accuracy: 0.8783\n",
      "Epoch 94/200\n",
      "Learning rate:  0.0001\n",
      "80000/80000 [==============================] - 177s 2ms/step - loss: 1.8894 - accuracy: 0.8891 - val_loss: 1.8970 - val_accuracy: 0.8381\n",
      "Epoch 95/200\n",
      "Learning rate:  0.0001\n",
      "80000/80000 [==============================] - 177s 2ms/step - loss: 1.8893 - accuracy: 0.8907 - val_loss: 1.8925 - val_accuracy: 0.8528\n",
      "Epoch 96/200\n",
      "Learning rate:  0.0001\n",
      "80000/80000 [==============================] - 176s 2ms/step - loss: 1.8891 - accuracy: 0.8905 - val_loss: 1.9141 - val_accuracy: 0.7627\n",
      "Epoch 97/200\n",
      "Learning rate:  0.0001\n",
      "80000/80000 [==============================] - 176s 2ms/step - loss: 1.8890 - accuracy: 0.8918 - val_loss: 1.8914 - val_accuracy: 0.8802\n",
      "Epoch 98/200\n",
      "Learning rate:  0.0001\n",
      "80000/80000 [==============================] - 177s 2ms/step - loss: 1.8889 - accuracy: 0.8913 - val_loss: 1.8926 - val_accuracy: 0.8652\n",
      "Epoch 99/200\n",
      "Learning rate:  0.0001\n",
      "80000/80000 [==============================] - 176s 2ms/step - loss: 1.8888 - accuracy: 0.8910 - val_loss: 1.9020 - val_accuracy: 0.8047\n",
      "Epoch 100/200\n",
      "Learning rate:  0.0001\n",
      "80000/80000 [==============================] - 176s 2ms/step - loss: 1.8887 - accuracy: 0.8934 - val_loss: 1.8901 - val_accuracy: 0.8940\n",
      "Epoch 101/200\n",
      "Learning rate:  0.0001\n",
      "80000/80000 [==============================] - 176s 2ms/step - loss: 1.8886 - accuracy: 0.8941 - val_loss: 1.8923 - val_accuracy: 0.8607\n",
      "Epoch 102/200\n",
      "Learning rate:  0.0001\n",
      "80000/80000 [==============================] - 176s 2ms/step - loss: 1.8886 - accuracy: 0.8930 - val_loss: 1.8928 - val_accuracy: 0.8887\n",
      "Epoch 103/200\n",
      "Learning rate:  0.0001\n",
      "80000/80000 [==============================] - 176s 2ms/step - loss: 1.8885 - accuracy: 0.8933 - val_loss: 1.8924 - val_accuracy: 0.8746\n",
      "Epoch 104/200\n",
      "Learning rate:  0.0001\n",
      "80000/80000 [==============================] - 176s 2ms/step - loss: 1.8884 - accuracy: 0.8937 - val_loss: 1.8918 - val_accuracy: 0.8536\n",
      "Epoch 105/200\n",
      "Learning rate:  0.0001\n",
      "80000/80000 [==============================] - 177s 2ms/step - loss: 1.8883 - accuracy: 0.8933 - val_loss: 1.8987 - val_accuracy: 0.8140\n",
      "Epoch 106/200\n",
      "Learning rate:  0.0001\n",
      "80000/80000 [==============================] - 176s 2ms/step - loss: 1.8883 - accuracy: 0.8949 - val_loss: 1.8979 - val_accuracy: 0.7944\n",
      "Epoch 107/200\n",
      "Learning rate:  0.0001\n",
      "80000/80000 [==============================] - 176s 2ms/step - loss: 1.8882 - accuracy: 0.8929 - val_loss: 1.9090 - val_accuracy: 0.7754\n",
      "Epoch 108/200\n",
      "Learning rate:  0.0001\n",
      "80000/80000 [==============================] - 176s 2ms/step - loss: 1.8882 - accuracy: 0.8948 - val_loss: 1.8915 - val_accuracy: 0.8716\n",
      "Epoch 109/200\n",
      "Learning rate:  0.0001\n",
      "80000/80000 [==============================] - 176s 2ms/step - loss: 1.8881 - accuracy: 0.8945 - val_loss: 1.8914 - val_accuracy: 0.8595\n",
      "Epoch 110/200\n",
      "Learning rate:  0.0001\n",
      "80000/80000 [==============================] - 176s 2ms/step - loss: 1.8881 - accuracy: 0.8949 - val_loss: 1.9007 - val_accuracy: 0.7764\n",
      "Epoch 111/200\n",
      "Learning rate:  0.0001\n",
      "80000/80000 [==============================] - 176s 2ms/step - loss: 1.8880 - accuracy: 0.8956 - val_loss: 1.9041 - val_accuracy: 0.7674\n",
      "Epoch 112/200\n",
      "Learning rate:  0.0001\n",
      "80000/80000 [==============================] - 176s 2ms/step - loss: 1.8880 - accuracy: 0.8945 - val_loss: 1.9028 - val_accuracy: 0.7930\n",
      "Epoch 113/200\n",
      "Learning rate:  0.0001\n",
      "80000/80000 [==============================] - 177s 2ms/step - loss: 1.8879 - accuracy: 0.8947 - val_loss: 1.8904 - val_accuracy: 0.8763\n",
      "Epoch 114/200\n",
      "Learning rate:  0.0001\n",
      "80000/80000 [==============================] - 176s 2ms/step - loss: 1.8879 - accuracy: 0.8959 - val_loss: 1.8915 - val_accuracy: 0.8576\n",
      "Epoch 115/200\n",
      "Learning rate:  0.0001\n",
      "80000/80000 [==============================] - 176s 2ms/step - loss: 1.8879 - accuracy: 0.8951 - val_loss: 1.8912 - val_accuracy: 0.8802\n",
      "Epoch 116/200\n",
      "Learning rate:  0.0001\n",
      "80000/80000 [==============================] - 176s 2ms/step - loss: 1.8878 - accuracy: 0.8946 - val_loss: 1.8952 - val_accuracy: 0.8267\n",
      "Epoch 117/200\n",
      "Learning rate:  0.0001\n",
      "80000/80000 [==============================] - 177s 2ms/step - loss: 1.8878 - accuracy: 0.8960 - val_loss: 1.9035 - val_accuracy: 0.7890\n",
      "Epoch 118/200\n",
      "Learning rate:  0.0001\n",
      "80000/80000 [==============================] - 178s 2ms/step - loss: 1.8877 - accuracy: 0.8950 - val_loss: 1.8991 - val_accuracy: 0.7862\n",
      "Epoch 119/200\n",
      "Learning rate:  0.0001\n",
      "80000/80000 [==============================] - 177s 2ms/step - loss: 1.8877 - accuracy: 0.8944 - val_loss: 1.8912 - val_accuracy: 0.8868\n",
      "Epoch 120/200\n",
      "Learning rate:  0.0001\n",
      "80000/80000 [==============================] - 177s 2ms/step - loss: 1.8877 - accuracy: 0.8955 - val_loss: 1.8984 - val_accuracy: 0.8235\n",
      "Epoch 121/200\n",
      "Learning rate:  0.0001\n",
      "80000/80000 [==============================] - 178s 2ms/step - loss: 1.8877 - accuracy: 0.8961 - val_loss: 1.8948 - val_accuracy: 0.8185\n",
      "Epoch 122/200\n",
      "Learning rate:  1e-05\n",
      "80000/80000 [==============================] - 177s 2ms/step - loss: 1.8866 - accuracy: 0.9095 - val_loss: 1.8883 - val_accuracy: 0.8831\n",
      "Epoch 123/200\n",
      "Learning rate:  1e-05\n",
      "80000/80000 [==============================] - 178s 2ms/step - loss: 1.8865 - accuracy: 0.9115 - val_loss: 1.8875 - val_accuracy: 0.9117\n",
      "Epoch 124/200\n",
      "Learning rate:  1e-05\n",
      "72992/80000 [==========================>...] - ETA: 14s - loss: 1.8865 - accuracy: 0.9116"
     ]
    }
   ],
   "source": [
    "from __future__ import print_function\n",
    "import keras\n",
    "from keras.layers import Dense, Conv2D, BatchNormalization, Activation\n",
    "from keras.layers import AveragePooling2D, Input, Flatten\n",
    "from keras.optimizers import Adam\n",
    "from keras.callbacks import ModelCheckpoint, LearningRateScheduler\n",
    "from keras.callbacks import ReduceLROnPlateau\n",
    "from keras.preprocessing.image import ImageDataGenerator\n",
    "from keras.regularizers import l2\n",
    "from keras import backend as K\n",
    "from keras.models import Model\n",
    "from keras.datasets import cifar10\n",
    "import numpy as np\n",
    "import os\n",
    "\n",
    "# Training parameters\n",
    "batch_size = 32  # orig paper trained all networks with batch_size=128\n",
    "epochs = 200\n",
    "data_augmentation = False\n",
    "num_classes = l_range\n",
    "\n",
    "# Subtracting pixel mean improves accuracy\n",
    "subtract_pixel_mean = False\n",
    "\n",
    "# Model parameter\n",
    "# ----------------------------------------------------------------------------\n",
    "#           |      | 200-epoch | Orig Paper| 200-epoch | Orig Paper| sec/epoch\n",
    "# Model     |  n   | ResNet v1 | ResNet v1 | ResNet v2 | ResNet v2 | GTX1080Ti\n",
    "#           |v1(v2)| %Accuracy | %Accuracy | %Accuracy | %Accuracy | v1 (v2)\n",
    "# ----------------------------------------------------------------------------\n",
    "# ResNet20  | 3 (2)| 92.16     | 91.25     | -----     | -----     | 35 (---)\n",
    "# ResNet32  | 5(NA)| 92.46     | 92.49     | NA        | NA        | 50 ( NA)\n",
    "# ResNet44  | 7(NA)| 92.50     | 92.83     | NA        | NA        | 70 ( NA)\n",
    "# ResNet56  | 9 (6)| 92.71     | 93.03     | 93.01     | NA        | 90 (100)\n",
    "# ResNet110 |18(12)| 92.65     | 93.39+-.16| 93.15     | 93.63     | 165(180)\n",
    "# ResNet164 |27(18)| -----     | 94.07     | -----     | 94.54     | ---(---)\n",
    "# ResNet1001| (111)| -----     | 92.39     | -----     | 95.08+-.14| ---(---)\n",
    "# ---------------------------------------------------------------------------\n",
    "n = 3\n",
    "\n",
    "# Model version\n",
    "# Orig paper: version = 1 (ResNet v1), Improved ResNet: version = 2 (ResNet v2)\n",
    "version = 1\n",
    "\n",
    "# Computed depth from supplied model parameter n\n",
    "if version == 1:\n",
    "    depth = n * 6 + 2\n",
    "elif version == 2:\n",
    "    depth = n * 9 + 2\n",
    "\n",
    "# Model name, depth and version\n",
    "model_type = 'ResNet%dv%d' % (depth, version)\n",
    "\n",
    "# Load the CIFAR10 data.\n",
    "#(x_train, y_train), (x_test, y_test) = cifar10.load_data()\n",
    "x_train = tr_imgs\n",
    "x_test = te_imgs\n",
    "\n",
    "y_train = tr_probs\n",
    "y_test = te_probs\n",
    "\n",
    "# Input image dimensions.\n",
    "input_shape = x_train.shape[1:]\n",
    "\n",
    "# Normalize data.\n",
    "#x_train = x_train.astype('float32') / 255\n",
    "#x_test = x_test.astype('float32') / 255\n",
    "\n",
    "# If subtract pixel mean is enabled\n",
    "if subtract_pixel_mean:\n",
    "    x_train_mean = np.mean(x_train, axis=0)\n",
    "    x_train -= x_train_mean\n",
    "    x_test -= x_train_mean\n",
    "\n",
    "print('x_train shape:', x_train.shape)\n",
    "print(x_train.shape[0], 'train samples')\n",
    "print(x_test.shape[0], 'test samples')\n",
    "print('y_train shape:', y_train.shape)\n",
    "\n",
    "# Convert class vectors to binary class matrices.\n",
    "#y_train = keras.utils.to_categorical(y_train, num_classes)\n",
    "#y_test = keras.utils.to_categorical(y_test, num_classes)\n",
    "\n",
    "\n",
    "def lr_schedule(epoch):\n",
    "    \"\"\"Learning Rate Schedule\n",
    "\n",
    "    Learning rate is scheduled to be reduced after 80, 120, 160, 180 epochs.\n",
    "    Called automatically every epoch as part of callbacks during training.\n",
    "\n",
    "    # Arguments\n",
    "        epoch (int): The number of epochs\n",
    "\n",
    "    # Returns\n",
    "        lr (float32): learning rate\n",
    "    \"\"\"\n",
    "    lr = 1e-3\n",
    "    if epoch > 180:\n",
    "        lr *= 0.5e-3\n",
    "    elif epoch > 160:\n",
    "        lr *= 1e-3\n",
    "    elif epoch > 120:\n",
    "        lr *= 1e-2\n",
    "    elif epoch > 80:\n",
    "        lr *= 1e-1\n",
    "    print('Learning rate: ', lr)\n",
    "    return lr\n",
    "\n",
    "\n",
    "def resnet_layer(inputs,\n",
    "                 num_filters=16,\n",
    "                 kernel_size=3,\n",
    "                 strides=1,\n",
    "                 activation='relu',\n",
    "                 batch_normalization=True,\n",
    "                 conv_first=True):\n",
    "    \"\"\"2D Convolution-Batch Normalization-Activation stack builder\n",
    "\n",
    "    # Arguments\n",
    "        inputs (tensor): input tensor from input image or previous layer\n",
    "        num_filters (int): Conv2D number of filters\n",
    "        kernel_size (int): Conv2D square kernel dimensions\n",
    "        strides (int): Conv2D square stride dimensions\n",
    "        activation (string): activation name\n",
    "        batch_normalization (bool): whether to include batch normalization\n",
    "        conv_first (bool): conv-bn-activation (True) or\n",
    "            bn-activation-conv (False)\n",
    "\n",
    "    # Returns\n",
    "        x (tensor): tensor as input to the next layer\n",
    "    \"\"\"\n",
    "    conv = Conv2D(num_filters,\n",
    "                  kernel_size=kernel_size,\n",
    "                  strides=strides,\n",
    "                  padding='same',\n",
    "                  kernel_initializer='he_normal',\n",
    "                  kernel_regularizer=l2(1e-4))\n",
    "\n",
    "    x = inputs\n",
    "    if conv_first:\n",
    "        x = conv(x)\n",
    "        if batch_normalization:\n",
    "            x = BatchNormalization()(x)\n",
    "        if activation is not None:\n",
    "            x = Activation(activation)(x)\n",
    "    else:\n",
    "        if batch_normalization:\n",
    "            x = BatchNormalization()(x)\n",
    "        if activation is not None:\n",
    "            x = Activation(activation)(x)\n",
    "        x = conv(x)\n",
    "    return x\n",
    "\n",
    "\n",
    "def resnet_v1(input_shape, depth, num_classes=10):\n",
    "    \"\"\"ResNet Version 1 Model builder [a]\n",
    "\n",
    "    Stacks of 2 x (3 x 3) Conv2D-BN-ReLU\n",
    "    Last ReLU is after the shortcut connection.\n",
    "    At the beginning of each stage, the feature map size is halved (downsampled)\n",
    "    by a convolutional layer with strides=2, while the number of filters is\n",
    "    doubled. Within each stage, the layers have the same number filters and the\n",
    "    same number of filters.\n",
    "    Features maps sizes:\n",
    "    stage 0: 32x32, 16\n",
    "    stage 1: 16x16, 32\n",
    "    stage 2:  8x8,  64\n",
    "    The Number of parameters is approx the same as Table 6 of [a]:\n",
    "    ResNet20 0.27M\n",
    "    ResNet32 0.46M\n",
    "    ResNet44 0.66M\n",
    "    ResNet56 0.85M\n",
    "    ResNet110 1.7M\n",
    "\n",
    "    # Arguments\n",
    "        input_shape (tensor): shape of input image tensor\n",
    "        depth (int): number of core convolutional layers\n",
    "        num_classes (int): number of classes (CIFAR10 has 10)\n",
    "\n",
    "    # Returns\n",
    "        model (Model): Keras model instance\n",
    "    \"\"\"\n",
    "    if (depth - 2) % 6 != 0:\n",
    "        raise ValueError('depth should be 6n+2 (eg 20, 32, 44 in [a])')\n",
    "    # Start model definition.\n",
    "    num_filters = 16\n",
    "    num_res_blocks = int((depth - 2) / 6)\n",
    "\n",
    "    inputs = Input(shape=input_shape)\n",
    "    x = resnet_layer(inputs=inputs)\n",
    "    # Instantiate the stack of residual units\n",
    "    for stack in range(3):\n",
    "        for res_block in range(num_res_blocks):\n",
    "            strides = 1\n",
    "            if stack > 0 and res_block == 0:  # first layer but not first stack\n",
    "                strides = 2  # downsample\n",
    "            y = resnet_layer(inputs=x,\n",
    "                             num_filters=num_filters,\n",
    "                             strides=strides)\n",
    "            y = resnet_layer(inputs=y,\n",
    "                             num_filters=num_filters,\n",
    "                             activation=None)\n",
    "            if stack > 0 and res_block == 0:  # first layer but not first stack\n",
    "                # linear projection residual shortcut connection to match\n",
    "                # changed dims\n",
    "                x = resnet_layer(inputs=x,\n",
    "                                 num_filters=num_filters,\n",
    "                                 kernel_size=1,\n",
    "                                 strides=strides,\n",
    "                                 activation=None,\n",
    "                                 batch_normalization=False)\n",
    "            x = keras.layers.add([x, y])\n",
    "            x = Activation('relu')(x)\n",
    "        num_filters *= 2\n",
    "\n",
    "    # Add classifier on top.\n",
    "    # v1 does not use BN after last shortcut connection-ReLU\n",
    "    x = AveragePooling2D(pool_size=8)(x)\n",
    "    y = Flatten()(x)\n",
    "    outputs = Dense(num_classes,\n",
    "                    activation='softmax',\n",
    "                    kernel_initializer='he_normal')(y)\n",
    "\n",
    "    # Instantiate model.\n",
    "    model = Model(inputs=inputs, outputs=outputs)\n",
    "    return model\n",
    "\n",
    "\n",
    "def resnet_v2(input_shape, depth, num_classes=10):\n",
    "    \"\"\"ResNet Version 2 Model builder [b]\n",
    "\n",
    "    Stacks of (1 x 1)-(3 x 3)-(1 x 1) BN-ReLU-Conv2D or also known as\n",
    "    bottleneck layer\n",
    "    First shortcut connection per layer is 1 x 1 Conv2D.\n",
    "    Second and onwards shortcut connection is identity.\n",
    "    At the beginning of each stage, the feature map size is halved (downsampled)\n",
    "    by a convolutional layer with strides=2, while the number of filter maps is\n",
    "    doubled. Within each stage, the layers have the same number filters and the\n",
    "    same filter map sizes.\n",
    "    Features maps sizes:\n",
    "    conv1  : 32x32,  16\n",
    "    stage 0: 32x32,  64\n",
    "    stage 1: 16x16, 128\n",
    "    stage 2:  8x8,  256\n",
    "\n",
    "    # Arguments\n",
    "        input_shape (tensor): shape of input image tensor\n",
    "        depth (int): number of core convolutional layers\n",
    "        num_classes (int): number of classes (CIFAR10 has 10)\n",
    "\n",
    "    # Returns\n",
    "        model (Model): Keras model instance\n",
    "    \"\"\"\n",
    "    if (depth - 2) % 9 != 0:\n",
    "        raise ValueError('depth should be 9n+2 (eg 56 or 110 in [b])')\n",
    "    # Start model definition.\n",
    "    num_filters_in = 16\n",
    "    num_res_blocks = int((depth - 2) / 9)\n",
    "\n",
    "    inputs = Input(shape=input_shape)\n",
    "    # v2 performs Conv2D with BN-ReLU on input before splitting into 2 paths\n",
    "    x = resnet_layer(inputs=inputs,\n",
    "                     num_filters=num_filters_in,\n",
    "                     conv_first=True)\n",
    "\n",
    "    # Instantiate the stack of residual units\n",
    "    for stage in range(3):\n",
    "        for res_block in range(num_res_blocks):\n",
    "            activation = 'relu'\n",
    "            batch_normalization = True\n",
    "            strides = 1\n",
    "            if stage == 0:\n",
    "                num_filters_out = num_filters_in * 4\n",
    "                if res_block == 0:  # first layer and first stage\n",
    "                    activation = None\n",
    "                    batch_normalization = False\n",
    "            else:\n",
    "                num_filters_out = num_filters_in * 2\n",
    "                if res_block == 0:  # first layer but not first stage\n",
    "                    strides = 2    # downsample\n",
    "\n",
    "            # bottleneck residual unit\n",
    "            y = resnet_layer(inputs=x,\n",
    "                             num_filters=num_filters_in,\n",
    "                             kernel_size=1,\n",
    "                             strides=strides,\n",
    "                             activation=activation,\n",
    "                             batch_normalization=batch_normalization,\n",
    "                             conv_first=False)\n",
    "            y = resnet_layer(inputs=y,\n",
    "                             num_filters=num_filters_in,\n",
    "                             conv_first=False)\n",
    "            y = resnet_layer(inputs=y,\n",
    "                             num_filters=num_filters_out,\n",
    "                             kernel_size=1,\n",
    "                             conv_first=False)\n",
    "            if res_block == 0:\n",
    "                # linear projection residual shortcut connection to match\n",
    "                # changed dims\n",
    "                x = resnet_layer(inputs=x,\n",
    "                                 num_filters=num_filters_out,\n",
    "                                 kernel_size=1,\n",
    "                                 strides=strides,\n",
    "                                 activation=None,\n",
    "                                 batch_normalization=False)\n",
    "            x = keras.layers.add([x, y])\n",
    "\n",
    "        num_filters_in = num_filters_out\n",
    "\n",
    "    # Add classifier on top.\n",
    "    # v2 has BN-ReLU before Pooling\n",
    "    x = BatchNormalization()(x)\n",
    "    x = Activation('relu')(x)\n",
    "    x = AveragePooling2D(pool_size=8)(x)\n",
    "    y = Flatten()(x)\n",
    "    outputs = Dense(num_classes,\n",
    "                    activation='softmax',\n",
    "                    kernel_initializer='he_normal')(y)\n",
    "\n",
    "    # Instantiate model.\n",
    "    model = Model(inputs=inputs, outputs=outputs)\n",
    "    return model\n",
    "\n",
    "\n",
    "if version == 2:\n",
    "    model = resnet_v2(input_shape=input_shape, depth=depth)\n",
    "else:\n",
    "    model = resnet_v1(input_shape=input_shape, depth=depth)\n",
    "\n",
    "model.compile(loss='categorical_crossentropy',\n",
    "              optimizer=Adam(learning_rate=lr_schedule(0)),\n",
    "              metrics=['accuracy'])\n",
    "model.summary()\n",
    "print(model_type)\n",
    "\n",
    "# Prepare model model saving directory.\n",
    "save_dir = os.path.join(os.getcwd(), 'saved_models')\n",
    "model_name = 'cifar10_%s_model.{epoch:03d}.h5' % model_type\n",
    "if not os.path.isdir(save_dir):\n",
    "    os.makedirs(save_dir)\n",
    "filepath = os.path.join(save_dir, model_name)\n",
    "\n",
    "# Prepare callbacks for model saving and for learning rate adjustment.\n",
    "checkpoint = ModelCheckpoint(filepath=filepath,\n",
    "                             monitor='val_acc',\n",
    "                             verbose=1,\n",
    "                             save_best_only=True)\n",
    "\n",
    "lr_scheduler = LearningRateScheduler(lr_schedule)\n",
    "\n",
    "lr_reducer = ReduceLROnPlateau(factor=np.sqrt(0.1),\n",
    "                               cooldown=0,\n",
    "                               patience=5,\n",
    "                               min_lr=0.5e-6)\n",
    "\n",
    "callbacks = [checkpoint, lr_reducer, lr_scheduler]\n",
    "\n",
    "# Run training, with or without data augmentation.\n",
    "if not data_augmentation:\n",
    "    print('Not using data augmentation.')\n",
    "    model.fit(x_train, y_train,\n",
    "              batch_size=batch_size,\n",
    "              epochs=epochs,\n",
    "              validation_data=(x_test, y_test),\n",
    "              shuffle=True,\n",
    "              callbacks=callbacks)\n",
    "else:\n",
    "    print('Using real-time data augmentation.')\n",
    "    # This will do preprocessing and realtime data augmentation:\n",
    "    datagen = ImageDataGenerator(\n",
    "        # set input mean to 0 over the dataset\n",
    "        featurewise_center=False,\n",
    "        # set each sample mean to 0\n",
    "        samplewise_center=False,\n",
    "        # divide inputs by std of dataset\n",
    "        featurewise_std_normalization=False,\n",
    "        # divide each input by its std\n",
    "        samplewise_std_normalization=False,\n",
    "        # apply ZCA whitening\n",
    "        zca_whitening=False,\n",
    "        # epsilon for ZCA whitening\n",
    "        zca_epsilon=1e-06,\n",
    "        # randomly rotate images in the range (deg 0 to 180)\n",
    "        rotation_range=0,\n",
    "        # randomly shift images horizontally\n",
    "        width_shift_range=0.1,\n",
    "        # randomly shift images vertically\n",
    "        height_shift_range=0.1,\n",
    "        # set range for random shear\n",
    "        shear_range=0.,\n",
    "        # set range for random zoom\n",
    "        zoom_range=0.,\n",
    "        # set range for random channel shifts\n",
    "        channel_shift_range=0.,\n",
    "        # set mode for filling points outside the input boundaries\n",
    "        fill_mode='nearest',\n",
    "        # value used for fill_mode = \"constant\"\n",
    "        cval=0.,\n",
    "        # randomly flip images\n",
    "        horizontal_flip=True,\n",
    "        # randomly flip images\n",
    "        vertical_flip=False,\n",
    "        # set rescaling factor (applied before any other transformation)\n",
    "        rescale=None,\n",
    "        # set function that will be applied on each input\n",
    "        preprocessing_function=None,\n",
    "        # image data format, either \"channels_first\" or \"channels_last\"\n",
    "        data_format=None,\n",
    "        # fraction of images reserved for validation (strictly between 0 and 1)\n",
    "        validation_split=0.0)\n",
    "\n",
    "    # Compute quantities required for featurewise normalization\n",
    "    # (std, mean, and principal components if ZCA whitening is applied).\n",
    "    datagen.fit(x_train)\n",
    "\n",
    "    # Fit the model on the batches generated by datagen.flow().\n",
    "    model.fit_generator(datagen.flow(x_train, y_train, batch_size=batch_size),\n",
    "                        validation_data=(x_test, y_test),\n",
    "                        epochs=epochs, verbose=1, workers=4,\n",
    "                        callbacks=callbacks)\n",
    "\n",
    "# Score trained model.\n",
    "scores = model.evaluate(x_test, y_test, verbose=1)\n",
    "print('Test loss:', scores[0])\n",
    "print('Test accuracy:', scores[1])\n"
   ]
  }
 ],
 "metadata": {
  "kernelspec": {
   "display_name": "Python 3",
   "language": "python",
   "name": "python3"
  },
  "language_info": {
   "codemirror_mode": {
    "name": "ipython",
    "version": 3
   },
   "file_extension": ".py",
   "mimetype": "text/x-python",
   "name": "python",
   "nbconvert_exporter": "python",
   "pygments_lexer": "ipython3",
   "version": "3.5.3"
  }
 },
 "nbformat": 4,
 "nbformat_minor": 2
}
